{
 "cells": [
  {
   "cell_type": "markdown",
   "metadata": {},
   "source": [
    "# DSCI 573 lab 2"
   ]
  },
  {
   "cell_type": "code",
   "execution_count": 2,
   "metadata": {
    "collapsed": true
   },
   "outputs": [],
   "source": [
    "import os\n",
    "import pickle\n",
    "import numpy as np\n",
    "import pandas as pd\n",
    "import numpy.linalg as npla\n",
    "import matplotlib.pyplot as plt\n",
    "from sklearn.linear_model import LinearRegression, Ridge, Lasso, ElasticNet\n",
    "from sklearn.linear_model import LogisticRegression\n",
    "from sklearn.metrics import accuracy_score, log_loss\n",
    "from sklearn.model_selection import train_test_split, GridSearchCV\n",
    "%matplotlib inline"
   ]
  },
  {
   "cell_type": "markdown",
   "metadata": {},
   "source": [
    "### General lab instructions\n",
    "\n",
    "rubric={mechanics:3, writing:3}\n",
    "\n",
    "- Follow the [general lab instructions](https://ubc-mds.github.io/resources_pages/general_lab_instructions/).\n",
    "- Ensure you respond to the questions using full English sentences that have proper spelling and grammar. \n",
    "- All the data for lab 2 lives in this directory: https://github.ubc.ca/ubc-mds-2017/DSCI_573_feat-model-select_students/tree/master/data/\n",
    "    - _note - you will want to copy the relevant data from this directory into a data directory that you create in your lab2 repository and make sure all the data loads using relative paths_"
   ]
  },
  {
   "cell_type": "markdown",
   "metadata": {
    "collapsed": true
   },
   "source": [
    "### Exercise 1: regularized logistic regression\n",
    "\n",
    "rubric={reasoning:10,code:10}\n",
    "\n",
    "Here, we will explore logistic regression with L1 and L2 regularization. Use scikit-learn's [LogisticRegression](http://scikit-learn.org/stable/modules/generated/sklearn.linear_model.LogisticRegression.html) to compare L1 and L2 regularization on the data set \"logisticData.pkl\".\n",
    "In each case report the number of \"selected features\" and the validation error with $C = 1$ ($C$ is the reciprocal of the regularization parameter). Discuss your results.\n",
    "\n",
    "Note: to determine if a feature was \"selected\" or not, check if the corresponding element of $w/\\max(w)$ is above some small threshold like $10^{-6}$, where $w$ are the weights.\n",
    "\n",
    "*Clarification on the discussion aspect: you are to compare the L1 and L2 regularization results with a common $C=1$ regularization parameter (for example, how do the coefficient estimates compare in both cases?).*"
   ]
  },
  {
   "cell_type": "code",
   "execution_count": 3,
   "metadata": {},
   "outputs": [
    {
     "data": {
      "text/plain": [
       "(500, 101)"
      ]
     },
     "execution_count": 3,
     "metadata": {},
     "output_type": "execute_result"
    }
   ],
   "source": [
    "np.random.seed(0)\n",
    "\n",
    "data = pd.read_pickle(\"logisticData.pkl\")\n",
    "\n",
    "C = 1e10\n",
    "\n",
    "X = data['X']\n",
    "y = data['y']\n",
    "\n",
    "X_valid = data['Xvalidate']\n",
    "y_valid = data['yvalidate']\n",
    "\n",
    "X.shape"
   ]
  },
  {
   "cell_type": "markdown",
   "metadata": {},
   "source": [
    "**Answer** \n"
   ]
  },
  {
   "cell_type": "code",
   "execution_count": 4,
   "metadata": {},
   "outputs": [
    {
     "name": "stdout",
     "output_type": "stream",
     "text": [
      "The L1 regularization selects  71 elements. The validation score is  0.948\n"
     ]
    }
   ],
   "source": [
    "l1_model = LogisticRegression(penalty= 'l1')\n",
    "l1_model.fit(X,y)\n",
    "\n",
    "valid_l1 = l1_model.score(X_valid, y_valid)\n",
    "\n",
    "l1_max_w = np.argmax(l1_model.coef_[0])\n",
    "\n",
    "number_selected1 = len(np.where((abs(l1_model.coef_)/l1_max_w) >= 10e-6)[1])\n",
    "\n",
    "print(\"The L1 regularization selects \", number_selected1, \"elements. The validation score is \", valid_l1)"
   ]
  },
  {
   "cell_type": "code",
   "execution_count": 5,
   "metadata": {},
   "outputs": [
    {
     "name": "stdout",
     "output_type": "stream",
     "text": [
      "The L2 regularization selects  101 elements. The validation score is  0.926\n"
     ]
    }
   ],
   "source": [
    "l2_model = LogisticRegression(penalty= 'l2')\n",
    "l2_model.fit(X,y)\n",
    "\n",
    "valid_l2 = l2_model.score(X_valid, y_valid)\n",
    "\n",
    "l2_max_w = max(l2_model.coef_[0])\n",
    "\n",
    "number_selected2= len(np.where((abs(l2_model.coef_)/l2_max_w) >= 10e-6)[1])\n",
    "\n",
    "print(\"The L2 regularization selects \", number_selected2, \"elements. The validation score is \", valid_l2)"
   ]
  },
  {
   "cell_type": "markdown",
   "metadata": {},
   "source": [
    "* Observation \n",
    "\n",
    "Unsurprisingly, the L2 regularization selects all features. Generally, we know that L2 regularization does not set any weights to 0 - instead with increasing lambda (or $C$) weights are depreciated by a larger factor. This means, that we expect L2 to select all features but attribute each feature with a low weight. Further, we know that L1 regularization can set the weights for certain parameters to 0 and therefore effectively remove parameters from the model. In this case, L1 regularization lead to a model with 71 parameters.\n",
    "\n",
    "This way, L1 regularization yields a simpler - more interpretable model - while also having a higher score (r-squared) on the validation set. Therefore, in this case L1 regularization is preferable. In general, we expect an L1-regularized model to be simpler while the performance of the two regularizations depends on the number of predictors and their weights. Here, we expect Ridge regression to perform better when we have many predictors, all with coefficients of\n",
    "roughly equal size while lasso may perform better in a setting where a relatively small number of predictors\n",
    "have large coefficients.  (\"Introduction to Statistial Learning\" p.224)"
   ]
  },
  {
   "cell_type": "markdown",
   "metadata": {},
   "source": [
    "### Exercise 2: RBF and regularization\n",
    "\n",
    "The code below loads a data set and performs kernel ridge regression (least squares with a kernel function and L2 regularization). It plots the result and prints out a performance metric. The performance of the model becomes better as the RBF parameter `gamma` is increased, but substantially overfits for very high values. We might expect to do better through the use of regularization. "
   ]
  },
  {
   "cell_type": "code",
   "execution_count": 6,
   "metadata": {},
   "outputs": [
    {
     "data": {
      "text/plain": [
       "<matplotlib.text.Text at 0x89bac4b160>"
      ]
     },
     "execution_count": 6,
     "metadata": {},
     "output_type": "execute_result"
    },
    {
     "data": {
      "image/png": "[encoded data removed]",
      "text/plain": [
       "<matplotlib.figure.Figure at 0x89bac23908>"
      ]
     },
     "metadata": {},
     "output_type": "display_data"
    },
    {
     "data": {
      "image/png": "[encoded data removed]",
      "text/plain": [
       "<matplotlib.figure.Figure at 0x89bc40a7b8>"
      ]
     },
     "metadata": {},
     "output_type": "display_data"
    }
   ],
   "source": [
    "from sklearn.svm import SVR\n",
    "# Note: we use SVR instead of sklearn.kernel_ridge.KernelRidge because KernelRidge \n",
    "# doesn't expose the regularization parameter\n",
    "# But by setting epsilon=0 below, we basically reproduce the behavior of KernelRidge.\n",
    "\n",
    "data = pd.read_pickle(\"nonLinearDataS.pkl\")    \n",
    "    \n",
    "X = data['X'][:,None]\n",
    "y = data['y']#[:,None]\n",
    "Xtest = data['Xtest'][:,None]\n",
    "ytest = data['ytest']#[:,None]\n",
    "\n",
    "# note: larger gamma means more complexity; larger C means higher penalty for misclassification (less regularization)\n",
    "kr = SVR(epsilon=0, kernel=\"rbf\", gamma=100, C=1000)\n",
    "kr.fit(X, y) \n",
    "\n",
    "grid = np.linspace(np.min(X),np.max(X),1000)[:,None]\n",
    "grid_pred = kr.predict(grid)\n",
    "plt.plot(grid, grid_pred)\n",
    "plt.plot(X, y, '.')\n",
    "plt.title(\"Training score: %f (best=1.0)\" % kr.score(X, y))\n",
    "\n",
    "plt.figure()\n",
    "plt.plot(grid, grid_pred)\n",
    "plt.plot(Xtest, ytest, '.')\n",
    "plt.title(\"Test score: %f (best=1.0)\" % kr.score(Xtest, ytest))"
   ]
  },
  {
   "cell_type": "markdown",
   "metadata": {},
   "source": [
    "##### 2.1\n",
    "\n",
    "rubric={reasoning:3,code:3,viz:3}\n",
    "\n",
    "Explore whether you can achieve a lower test error by exploring different values of the regularization parameter $\\lambda$ (in the code, we control this through the parameter `C`, which is $\\frac{1}{\\lambda}$). Try `C` in the range: $10^{-4},10^{-3},..., 10{^4}$."
   ]
  },
  {
   "cell_type": "markdown",
   "metadata": {},
   "source": [
    "**Answer**"
   ]
  },
  {
   "cell_type": "code",
   "execution_count": 7,
   "metadata": {},
   "outputs": [
    {
     "data": {
      "image/png": "[encoded data removed]",
      "text/plain": [
       "<matplotlib.figure.Figure at 0x89b67f1048>"
      ]
     },
     "metadata": {},
     "output_type": "display_data"
    }
   ],
   "source": [
    "#iterating over different values of lambda and recording test_score\n",
    "\n",
    "c_range = np.array([10e-4, 10e-3, 10e-2, 1, 10, 10**2, 10**3, 10**4])\n",
    "index_list = []\n",
    "score_list = []\n",
    "for i in c_range:\n",
    "    kr = SVR(epsilon=0, kernel=\"rbf\", gamma=100, C=i)\n",
    "    kr.fit(X, y) \n",
    "    score = kr.score(Xtest, ytest)\n",
    "    score_list.append(score)\n",
    "    index_list.append(i)  \n",
    "    \n",
    "plt.plot(index_list,score_list ,\"b\",kr.score(Xtest, ytest))\n",
    "plt.title('Influence Gamma on Test Score')\n",
    "plt.xscale('log')"
   ]
  },
  {
   "cell_type": "markdown",
   "metadata": {},
   "source": [
    "##### 2.2\n",
    "\n",
    "rubric={reasoning:4,code:4}\n",
    "\n",
    "Unfortunately, this demo and exploring whether we can achieve a better test error by trying out different values of $\\lambda$ is violating the golden rule of machine learning, by looking at the test set multiple times. Instead of training on the full training set and testing on the test set, train on the first half of the training data and test on the second half of the training data (the validation set). Compare the test error to the result from Exercise 3.1.\n",
    "\n",
    "Then, try again but this time shuffling the data set first (or, equivalently, doing a random split). Are the results different?"
   ]
  },
  {
   "cell_type": "markdown",
   "metadata": {},
   "source": [
    "**Answer**"
   ]
  },
  {
   "cell_type": "code",
   "execution_count": 8,
   "metadata": {},
   "outputs": [
    {
     "data": {
      "image/png": "[encoded data removed]",
      "text/plain": [
       "<matplotlib.figure.Figure at 0x89bbd7c4a8>"
      ]
     },
     "metadata": {},
     "output_type": "display_data"
    }
   ],
   "source": [
    "#splitting data in first and second half \n",
    "mid = len(X)//2\n",
    "\n",
    "X_train1 = X[:mid]\n",
    "y_train1 = y[:mid]\n",
    "\n",
    "X_val1 = X[mid:]\n",
    "y_val1 = y[mid:]\n",
    "\n",
    "#training on first half, scoring on second half\n",
    "c_range = np.array([10e-4, 10e-3, 10e-2, 1, 10, 10**2, 10**3, 10**4])\n",
    "\n",
    "index_list = []\n",
    "score_list = []\n",
    "for i in c_range:\n",
    "    kr = SVR(epsilon=0, kernel=\"rbf\", gamma=100, C=i)\n",
    "    kr.fit(X_train1, y_train1) \n",
    "    score = kr.score(X_val1, y_val1)\n",
    "    score_list.append(score)\n",
    "    index_list.append(i)\n",
    "\n",
    "#plotting results \n",
    "\n",
    "plt.plot(index_list,score_list ,\"b\",kr.score(Xtest, ytest))\n",
    "plt.title('Influence Gamma on Validation Score')\n",
    "plt.xscale('log')"
   ]
  },
  {
   "cell_type": "code",
   "execution_count": 9,
   "metadata": {},
   "outputs": [
    {
     "data": {
      "image/png": "[encoded data removed]",
      "text/plain": [
       "<matplotlib.figure.Figure at 0x89bc3fdcc0>"
      ]
     },
     "metadata": {},
     "output_type": "display_data"
    }
   ],
   "source": [
    "#using train_test_split to shuffle data and create split \n",
    "\n",
    "X_train2, X_val2, y_train2, y_val2 = train_test_split(X, y, test_size=0.5, random_state=1)\n",
    "\n",
    "\n",
    "#training on first half, scoring on second half\n",
    "c_range = np.array([10e-4, 10e-3, 10e-2, 1, 10, 10**2, 10**3, 10**4])\n",
    "\n",
    "index_list = []\n",
    "score_list = []\n",
    "for i in c_range:\n",
    "    kr = SVR(epsilon=0, kernel=\"rbf\", gamma=100, C=i)\n",
    "    kr.fit(X_train2, y_train2) \n",
    "    score = kr.score(X_val2, y_val2)\n",
    "    score_list.append(score)\n",
    "    index_list.append(i)\n",
    "    \n",
    "plt.plot(index_list,score_list ,\"b\",kr.score(Xtest, ytest))\n",
    "plt.title('Influence Gamma on Validation Score')\n",
    "plt.xscale('log')"
   ]
  },
  {
   "cell_type": "markdown",
   "metadata": {},
   "source": [
    "* Observation: \n",
    "\n",
    "Based on the \"illegal\" test calibration on our test data (2.1), we know that models with a large `gamma` value rapidly overfit with gamma values greater than 100. The question now is, in how far we can estimate this real test error by using our training data. \n",
    "\n",
    "Using the validation error from our non-random split as a test-score estimate suggests that using very lage values of `gamma` would yield the best test score. Using the validation error from the random split gives a better approximation and would lead to an optimal `gamma` of ~1. "
   ]
  },
  {
   "cell_type": "markdown",
   "metadata": {},
   "source": [
    "##### 2.3\n",
    "\n",
    "rubric={viz:4,code:4}\n",
    "\n",
    "Search over the hyperparameters `gamma` and `C` and find a combination that performs the best on the validation set.  Once you have the best values of the hyperparameters `gamma` and `C`, train on the full training set and compute the performance score on the test set. Report the best values of `gamma` and `C` and the final test error estimate from this procedure. Also include a plot of the fit."
   ]
  },
  {
   "cell_type": "markdown",
   "metadata": {},
   "source": [
    "**Answer**"
   ]
  },
  {
   "cell_type": "code",
   "execution_count": 10,
   "metadata": {},
   "outputs": [
    {
     "name": "stdout",
     "output_type": "stream",
     "text": [
      "The best parameters from grid search are:  {'C': 97, 'gamma': 0.1}\n"
     ]
    }
   ],
   "source": [
    "parameters = {\"gamma\" : [10**-7,10**-6, 10**-5,10**-4,10**-3,10**-2,10**-1,1., 10, 10**2, 10**3, 10**4], \"C\" : list(range(1,100,1)) }\n",
    "\n",
    "svr = SVR(epsilon=0, kernel=\"rbf\")\n",
    "grid_search =  GridSearchCV(svr, parameters)\n",
    "grid_search.fit(X_train2,y_train2)\n",
    "\n",
    "print(\"The best parameters from grid search are: \", grid_search.best_params_)"
   ]
  },
  {
   "cell_type": "code",
   "execution_count": 11,
   "metadata": {},
   "outputs": [
    {
     "name": "stdout",
     "output_type": "stream",
     "text": [
      "The performance on the test set using the ideal parameter combination above is:  0.979683127018\n"
     ]
    }
   ],
   "source": [
    "#using parameters to fit model\n",
    "\n",
    "svr_best = SVR(epsilon = 0, kernel = \"rbf\", gamma = 0.1, C = 97)\n",
    "svr_best.fit(X, y)\n",
    "\n",
    "print(\"The performance on the test set using the ideal parameter combination above is: \", svr_best.score(Xtest, ytest))"
   ]
  },
  {
   "cell_type": "code",
   "execution_count": 12,
   "metadata": {},
   "outputs": [
    {
     "data": {
      "text/plain": [
       "<matplotlib.text.Text at 0x89bcaef438>"
      ]
     },
     "execution_count": 12,
     "metadata": {},
     "output_type": "execute_result"
    },
    {
     "data": {
      "image/png": "[encoded data removed]",
      "text/plain": [
       "<matplotlib.figure.Figure at 0x89bc72a7b8>"
      ]
     },
     "metadata": {},
     "output_type": "display_data"
    }
   ],
   "source": [
    "#creating plot \n",
    "\n",
    "grid = np.linspace(np.min(X),np.max(X),1000)[:,None]\n",
    "grid_pred = svr_best.predict(grid)\n",
    "plt.plot(grid, grid_pred)\n",
    "plt.plot(Xtest, ytest, '.')\n",
    "plt.title(\"Training score: %f\" % svr_best.score(Xtest, ytest))"
   ]
  },
  {
   "cell_type": "markdown",
   "metadata": {},
   "source": [
    "#### (optional) 2.4\n",
    "\n",
    "rubric={reasoning:1}\n",
    "\n",
    "In DSCI 571 you played around with the `C` and `gamma` parameters of the SVM. Are the interpretations of these parameters the same as here? You'll notice that the RBF makes an appearance in both cases. Write a couple sentences making a connection between these parameters with the same names appearing in two different contexts. "
   ]
  },
  {
   "cell_type": "markdown",
   "metadata": {},
   "source": [
    "## Exercise 3: ridge, lasso, elastic nets\n",
    "\n",
    "rubric={reasoning:10,code:15}\n",
    "\n",
    "In the `primeData` dataset, most of the variables are not relevant to the prediction. In particular, only the variables $j$, where $j$ is a prime number, are relevant.\n",
    "\n",
    "The code below loads the data, fits a linear regression model, and computes the squared error on the training and validation sets. As you can see, the validation error is huge compared to the (tiny) training error. This model is clearly over-fitting.\n",
    "\n",
    "Your tasks: \n",
    "\n",
    "- A linear model seems extremely simple, and yet it is overfitting. Write a few sentences explaining the intuition of what is going on here. \n",
    "- Fit an L2-regularized linear regression, a.k.a. Ridge regression, via scikit-learn's [Ridge](http://scikit-learn.org/stable/modules/generated/sklearn.linear_model.Ridge.html), to this data set. Try to tune the `alpha` parameter and report your best result. Then, compute the training and validation error, and compare them to the unregularized version.\n",
    "- Fit an L1-regularized linear regression, a.k.a. Lasso regression, via scikit-learn's [Lasso](http://scikit-learn.org/stable/modules/generated/sklearn.linear_model.Lasso.html), to this data set. Try to tune the `alpha` parameter and report your best result. Then, compute the training and validation error, and compare them to your previous results.\n",
    "- For this favorite `alpha` value, which of the coefficients (accessed via the `model.coef_` if `model` is your `Lasso` object) are nonzero? \n",
    "- Make a plot of the number of nonzero coefficients as a function of `alpha`. Does your plot make sense?\n",
    "- Fit an L1- and L2-regularized linear regression, a.k.a. elastic net, via scikit-learn's [ElasticNet](http://scikit-learn.org/stable/modules/generated/sklearn.linear_model.ElasticNet.html), to this data set. Try to tune the `alpha` parameter and report your best result. Then, compute the training and validation error, and compare to your previous results.\n",
    "- Finally, discuss the following: In lab 1, you did forward and (a variation of) backward feature selection on this same dataset. Discuss the results obtained from all 5 methods of feature selection on this dataset. Which worked best? Worst? Or were all the results essentially the same? Did you see what you would expect based on what you learned about these methods in lecture?"
   ]
  },
  {
   "cell_type": "code",
   "execution_count": 13,
   "metadata": {},
   "outputs": [
    {
     "name": "stdout",
     "output_type": "stream",
     "text": [
      "Number of training examples: 250\n",
      "Number of features: 300\n"
     ]
    }
   ],
   "source": [
    "data = pd.read_pickle(\"primeData.pkl\")      \n",
    "    \n",
    "X = data['X']\n",
    "y = data['y']\n",
    "Xvalidate = data['Xvalidate']\n",
    "yvalidate = data['yvalidate']\n",
    "    \n",
    "n = X.shape[0]\n",
    "d = X.shape[1]\n",
    "t = Xvalidate.shape[0]\n",
    "\n",
    "print(\"Number of training examples:\", n)\n",
    "print(\"Number of features:\", d)"
   ]
  },
  {
   "cell_type": "code",
   "execution_count": 14,
   "metadata": {},
   "outputs": [
    {
     "name": "stdout",
     "output_type": "stream",
     "text": [
      "Training error: 5.48080034238e-28\n",
      "Validation error: 27.3590805707\n"
     ]
    },
    {
     "data": {
      "text/plain": [
       "0.30745242781648552"
      ]
     },
     "execution_count": 14,
     "metadata": {},
     "output_type": "execute_result"
    }
   ],
   "source": [
    "lm = LinearRegression()\n",
    "lm.fit(X,y)\n",
    "\n",
    "mean_squared_err = lambda y, yhat: np.mean((y-yhat)**2)\n",
    "\n",
    "print(\"Training error:\", mean_squared_err(y, lm.predict(X)))\n",
    "print(\"Validation error:\", mean_squared_err(yvalidate, lm.predict(Xvalidate)))"
   ]
  },
  {
   "cell_type": "markdown",
   "metadata": {},
   "source": [
    "**Answer**"
   ]
  },
  {
   "cell_type": "markdown",
   "metadata": {},
   "source": [
    "- A linear model seems extremely simple, and yet it is overfitting. Write a few sentences explaining the intuition of what is going on here. "
   ]
  },
  {
   "cell_type": "markdown",
   "metadata": {
    "collapsed": true
   },
   "source": [
    "Linear models can have a very high variance - especially, when the distribution of the training data is close to linear and the training error is low (which it is given in this case). When this is the case, using the validation set - i.e. changing the data - slightly would result in a significantly different regression line which in turn means that our existing line does not fit the data very well. Therefore, although a linear model is appears simple it has a significant risk of overfitting. "
   ]
  },
  {
   "cell_type": "markdown",
   "metadata": {},
   "source": [
    "- Fit an L2-regularized linear regression, a.k.a. Ridge regression, via scikit-learn's [Ridge](http://scikit-learn.org/stable/modules/generated/sklearn.linear_model.Ridge.html), to this data set. Try to tune the `alpha` parameter and report your best result. Then, compute the training and validation error, and compare them to the unregularized version."
   ]
  },
  {
   "cell_type": "code",
   "execution_count": 103,
   "metadata": {},
   "outputs": [
    {
     "name": "stdout",
     "output_type": "stream",
     "text": [
      "The best parameters from grid search are:  100000.0\n"
     ]
    }
   ],
   "source": [
    "#tuning alpha parameter with gridsearch \n",
    "\n",
    "alpha_range = 10**np.arange(-5.0,10,1)\n",
    "alpha_params = {\"alpha\" : alpha_range}\n",
    "\n",
    "\n",
    "ridge_model = Ridge()\n",
    "grid_search_a = GridSearchCV(ridge_model, alpha_params)\n",
    "grid_search_a.fit(X,y)\n",
    "\n",
    "print(\"The best parameters from grid search are: \", grid_search_a.best_params_[\"alpha\"])"
   ]
  },
  {
   "cell_type": "code",
   "execution_count": 104,
   "metadata": {},
   "outputs": [
    {
     "name": "stdout",
     "output_type": "stream",
     "text": [
      "Training error: 1.25983090113e-10\n",
      "Validation error: 27.5112127219\n"
     ]
    }
   ],
   "source": [
    "#fitting model\n",
    "best_ridge = Ridge(alpha = 1)\n",
    "best_ridge.fit(X,y)\n",
    "\n",
    "print(\"Training error:\", mean_squared_err(y, best_ridge.predict(X)))\n",
    "print(\"Validation error:\", mean_squared_err(yvalidate, best_ridge.predict(Xvalidate)))"
   ]
  },
  {
   "cell_type": "markdown",
   "metadata": {},
   "source": [
    "- Fit an L1-regularized linear regression, a.k.a. Lasso regression, via scikit-learn's [Lasso](http://scikit-learn.org/stable/modules/generated/sklearn.linear_model.Lasso.html), to this data set. Try to tune the `alpha` parameter and report your best result. Then, compute the training and validation error, and compare them to your previous results."
   ]
  },
  {
   "cell_type": "code",
   "execution_count": 105,
   "metadata": {},
   "outputs": [
    {
     "name": "stdout",
     "output_type": "stream",
     "text": [
      "The best parameters from grid search are:  {'alpha': 4.0}\n",
      "Training error: 0.467558800298\n",
      "Validation error: 2.52826119014\n"
     ]
    }
   ],
   "source": [
    "#tuning alpha parameter with gridsearch \n",
    "\n",
    "alpha_range = {\"alpha\" : np.arange(1,20,0.5)}\n",
    "\n",
    "lasso_model = Lasso()\n",
    "grid_search_l = GridSearchCV(lasso_model, alpha_range)\n",
    "grid_search_l.fit(X,y)\n",
    "\n",
    "lasso_model_best = Lasso(alpha=4)\n",
    "lasso_model_best.fit(X,y)\n",
    "\n",
    "print(\"The best parameters from grid search are: \", grid_search_l.best_params_)\n",
    "print(\"Training error:\", mean_squared_err(y, lasso_model_best.predict(X)))\n",
    "print(\"Validation error:\", mean_squared_err(yvalidate, lasso_model_best.predict(Xvalidate)))"
   ]
  },
  {
   "cell_type": "markdown",
   "metadata": {},
   "source": [
    "- For this favorite `alpha` value, which of the coefficients (accessed via the `model.coef_` if `model` is your `Lasso` object) are nonzero? "
   ]
  },
  {
   "cell_type": "code",
   "execution_count": 106,
   "metadata": {},
   "outputs": [
    {
     "name": "stdout",
     "output_type": "stream",
     "text": [
      "the following 136 coefficiencts were not 0: \n",
      " [  0   1   2   3   5   8   9  11  15  19  21  26  27  29  31  34  35  36\n",
      "  38  41  44  45  48  50  51  53  54  57  58  59  61  64  65  68  69  71\n",
      "  76  77  84  89  90  95  96  98  99 100 101 103 105 106 107 111 112 114\n",
      " 118 120 122 123 125 126 127 129 132 135 137 138 140 141 147 149 150 151\n",
      " 156 157 160 161 162 164 165 166 168 171 173 176 177 178 179 186 187 189\n",
      " 191 195 197 198 200 203 209 210 212 213 215 216 221 224 225 227 231 233\n",
      " 237 239 243 245 249 250 254 255 257 258 261 265 267 269 272 273 275 276\n",
      " 278 279 281 286 288 289 292 293 294 296]\n"
     ]
    }
   ],
   "source": [
    "lasso_model_best = Lasso(alpha = 4)\n",
    "lasso_model_best.fit(X,y)\n",
    "\n",
    "max_w = max(lasso_model_best.coef_)\n",
    "\n",
    "number_selected_lasso = np.where((abs(lasso_model_best.coef_)/max_w) >= 10e-6)\n",
    "\n",
    "print(\"the following 136 coefficiencts were not 0: \\n\" ,number_selected_lasso[0])\n"
   ]
  },
  {
   "cell_type": "markdown",
   "metadata": {},
   "source": [
    "- Make a plot of the number of nonzero coefficients as a function of `alpha`. Does your plot make sense?"
   ]
  },
  {
   "cell_type": "code",
   "execution_count": 107,
   "metadata": {},
   "outputs": [
    {
     "name": "stderr",
     "output_type": "stream",
     "text": [
      "C:\\Users\\Akleefel\\Anaconda3\\lib\\site-packages\\sklearn\\linear_model\\coordinate_descent.py:484: ConvergenceWarning: Objective did not converge. You might want to increase the number of iterations. Fitting data with very small alpha may cause precision problems.\n",
      "  ConvergenceWarning)\n"
     ]
    },
    {
     "data": {
      "text/plain": [
       "<matplotlib.text.Text at 0x89c0b85860>"
      ]
     },
     "execution_count": 107,
     "metadata": {},
     "output_type": "execute_result"
    },
    {
     "data": {
      "image/png": "[encoded data removed]",
      "text/plain": [
       "<matplotlib.figure.Figure at 0x89c0b41390>"
      ]
     },
     "metadata": {},
     "output_type": "display_data"
    }
   ],
   "source": [
    "alpha_list = []\n",
    "count_list = []\n",
    "alpha_range = np.arange(0.05,30,0.5)\n",
    "\n",
    "for i in alpha_range:\n",
    "    \n",
    "    lasso_model = Lasso(alpha = i)\n",
    "    lasso_model.fit(X,y)\n",
    "\n",
    "    max_w = max(lasso_model.coef_)\n",
    "    number_selected = len(np.where((abs(lasso_model.coef_)/max_w) >= 10e-6)[0])\n",
    "    count_list.append(number_selected)\n",
    "    alpha_list.append(i)\n",
    "\n",
    "plt.plot(alpha_list, count_list,\"b\")\n",
    "plt.title('Number of Nonzero Coefficients vs. Alpha')"
   ]
  },
  {
   "cell_type": "markdown",
   "metadata": {},
   "source": [
    "* Observation: \n",
    "\n",
    "The higher the value of `alpha` the more coefficients are not 0. This makes sense because at an alpha value of 0, we are essentially removing the l1 penalty and the results will be the same as in the linear regression (300 features). The more we increase the weight on the l1 penalty, the more we \"force\" our model to minimize parameter values - which can in the case of l1 regularization lead to an effective removal of a parameter from the model. "
   ]
  },
  {
   "cell_type": "markdown",
   "metadata": {},
   "source": [
    "- Fit an L1- and L2-regularized linear regression, a.k.a. elastic net, via scikit-learn's [ElasticNet](http://scikit-learn.org/stable/modules/generated/sklearn.linear_model.ElasticNet.html), to this data set. Try to tune the `alpha` parameter and report your best result. Then, compute the training and validation error, and compare to your previous results."
   ]
  },
  {
   "cell_type": "code",
   "execution_count": 108,
   "metadata": {},
   "outputs": [
    {
     "name": "stdout",
     "output_type": "stream",
     "text": [
      "The best Alpha is  7.5\n"
     ]
    }
   ],
   "source": [
    "elastic_model = ElasticNet()\n",
    "alphas = np.arange(1,15,0.5)\n",
    "alphas_params = {\"alpha\":alphas}\n",
    "grid_elastic = GridSearchCV(elastic_model, alphas_params)\n",
    "grid_elastic.fit(X,y)\n",
    "\n",
    "print(\"The best Alpha is \",grid_elastic.best_params_[\"alpha\"])"
   ]
  },
  {
   "cell_type": "code",
   "execution_count": 109,
   "metadata": {},
   "outputs": [
    {
     "name": "stdout",
     "output_type": "stream",
     "text": [
      "Training error: 0.440879801312\n",
      "Validation error: 2.52315076917\n"
     ]
    }
   ],
   "source": [
    "#fitting model\n",
    "best_elastic = ElasticNet(alpha = 7.5)\n",
    "best_elastic.fit(X,y)\n",
    "\n",
    "print(\"Training error:\", mean_squared_err(y, best_elastic.predict(X)))\n",
    "print(\"Validation error:\", mean_squared_err(yvalidate, best_elastic.predict(Xvalidate))) "
   ]
  },
  {
   "cell_type": "markdown",
   "metadata": {},
   "source": [
    "**Summary Table - Training & Validation Errors** \n",
    "\n",
    "|Model|Training Error|Test Error|\n",
    "|----|----|----|\n",
    "|Linear Regression|0|27.359|\n",
    "|Ridge Regression|0|27.5112|\n",
    "|Lasso Regression|0.4675|2.5282|\n",
    "|Elsastic Net|0.44087|2.5231|\n",
    "\n",
    "\n",
    "\n",
    "\n",
    "\n",
    "\n",
    "\n"
   ]
  },
  {
   "cell_type": "markdown",
   "metadata": {},
   "source": [
    "* Observation\n",
    "\n"
   ]
  },
  {
   "cell_type": "markdown",
   "metadata": {},
   "source": [
    "- Finally, discuss the following: In lab 1, you did forward and (a variation of) backward feature selection on this same dataset. Discuss the results obtained from all 5 methods of feature selection on this dataset. Which worked best? Worst? Or were all the results essentially the same? Did you see what you would expect based on what you learned about these methods in lecture?"
   ]
  },
  {
   "cell_type": "code",
   "execution_count": null,
   "metadata": {
    "collapsed": true
   },
   "outputs": [],
   "source": []
  },
  {
   "cell_type": "markdown",
   "metadata": {},
   "source": [
    "## Exercise 4: putting it all together - a mini-project!\n",
    "\n",
    "rubric={mechanics:5,code:15,reasoning:15,writing:5,viz:5}\n",
    "\n",
    "Here you are tasked to do a machine learning problem of your choice (within the guidelines specified below) which has a feature and model selection aspect. You will complete this analysis from beginning (downloading data) to end (communicating the results from your feature selection & machine learning problem). This will be done publicly on https://github.com/ and act as another piece of your growing portfolio. Expectations and constraints on dataset selection and project are outlined below:\n",
    "\n",
    "#### Dataset selection:\n",
    "Datasets are to be chosen from this repository: http://archive.ics.uci.edu/ml/datasets.html. They must also meet the following constraints:\n",
    "   - number of observations should be > 300\n",
    "   - number of features > 10\n",
    "   - be a regression or classification problem (see \"Default Task\" column in repository linked to above)\n",
    "   - *note: no sequential, time-series or nlp data can be used for this*\n",
    "\n",
    "> *note - some files from this dataset repository are of `.arff` format. Below is some Python code to help you load such files:*\n",
    ">\n",
    ">```\n",
    "from scipy.io import arff\n",
    "import pandas as pd\n",
    "data = arff.loadarff('dataset_path.arff')\n",
    "df = pd.DataFrame(data[0])\n",
    "df.head()\n",
    "```\n",
    "\n",
    "#### Project expectations:\n",
    "\n",
    "1. All work should live in a well-organized, public repository on Github.com (and give it a more meaningful name than lab2...)\n",
    "    - When submitting your work, tag a release (v1.0) and submit that URL in README of your lab2 Github.ubc.ca repository to point the TA's to your work\n",
    "2. Have a clear README that:\n",
    "    - summarizes what your project does \n",
    "    - explains how to run your analysis from beginning to end\n",
    "    - lists all software dependencies\n",
    "3. Write code in either a `.ipynb` or `.py` scripts that:\n",
    "    - downloads the data\n",
    "    - performs necessary data cleaning and wrangling\n",
    "    - performs some EDA (creates **at least** one table and one visualization)\n",
    "    - performs feature and model selection (you should create **at least** one table and one visualization to present these results)\n",
    "4. Write a 1-2 page report (including tables, figures and references) in `.md`, `.Rmd` or `.ipynb` that presents your results. This report should:\n",
    "    - be linked to in the README of your project's repo\n",
    "    - be general enough that someone not familiar with your dataset understands what question you are asking and what your results mean\n",
    "    - be technical enough that your MDS peers could easily understand what you did and why\n",
    "    \n",
    "#### Make your analysis automated and reproducible (optional)\n",
    "rubric={mechanics:2}\n",
    "\n",
    "- make it automated using Make\n",
    "- make it reproducible using automated builds from Docker\n",
    "- explain clearly in the README how the user would run your automated and reproducible analysis (i.e., the docker run command they would need to type) and don't forget to link to your Docker Hub repo so the user knows where the Dockerfile is (if they want to see it).\n"
   ]
  }
 ],
 "metadata": {
  "anaconda-cloud": {},
  "kernelspec": {
   "display_name": "Python 3",
   "language": "python",
   "name": "python3"
  },
  "language_info": {
   "codemirror_mode": {
    "name": "ipython",
    "version": 3
   },
   "file_extension": ".py",
   "mimetype": "text/x-python",
   "name": "python",
   "nbconvert_exporter": "python",
   "pygments_lexer": "ipython3",
   "version": "3.6.1"
  }
 },
 "nbformat": 4,
 "nbformat_minor": 1
}
