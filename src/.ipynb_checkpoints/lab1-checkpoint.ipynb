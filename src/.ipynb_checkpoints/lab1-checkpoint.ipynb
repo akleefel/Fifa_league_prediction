{
 "cells": [
  {
   "cell_type": "markdown",
   "metadata": {},
   "source": [
    "# DSCI 573 lab 1"
   ]
  },
  {
   "cell_type": "code",
   "execution_count": 1,
   "metadata": {
    "collapsed": true
   },
   "outputs": [],
   "source": [
    "import os\n",
    "import numpy as np\n",
    "import matplotlib.pyplot as plt\n",
    "import pickle\n",
    "import pandas as pd\n",
    "\n",
    "# classifiers / models\n",
    "from sklearn.neighbors import KNeighborsClassifier\n",
    "from sklearn.ensemble import RandomForestClassifier\n",
    "from sklearn.tree import DecisionTreeClassifier\n",
    "from sklearn.linear_model import LinearRegression\n",
    "from sklearn.svm import SVC\n",
    "%matplotlib inline\n",
    "\n",
    "# data\n",
    "from sklearn import datasets\n",
    "\n",
    "# other\n",
    "from sklearn.metrics import log_loss, accuracy_score\n",
    "from sklearn.model_selection import train_test_split, GridSearchCV, RandomizedSearchCV, cross_val_score"
   ]
  },
  {
   "cell_type": "markdown",
   "metadata": {},
   "source": [
    "## General lab instructions\n",
    "rubric={mechanics:2}\n",
    "\n",
    "Follow the [general lab instructions](https://ubc-mds.github.io/resources_pages/general_lab_instructions/)"
   ]
  },
  {
   "cell_type": "markdown",
   "metadata": {},
   "source": [
    "## Exercise 0\n",
    "rubric={reasoning:10}\n",
    "\n",
    "Answer the following questions:\n",
    "\n",
    "2. Why would it be a mistake to set the depth of a decision tree based purely on training accuracy?\n",
    "1. What is the difference between the following two approaches?\n",
    "  1. using 50% of your training data as a validation set (and the other 50% for training).\n",
    "  2. 2-fold cross validation\n",
    "3. Assuming $n$ is the number of training examples, what is the difference between leave-one-out cross-validation and $n$-fold cross-validation?\n",
    "4. What is an advantage and a disadvantage of 10-fold cross-validation over 3-fold cross validation?\n",
    "5. You have a (fictional) model that trains in $\\mathcal{O}(n^2d)$ time (total) and makes predictions in $\\mathcal{O}(d^2)$ time (per example). What is the time complexity of evaluating this model with $k$-fold cross-validation? Answer using big-O notation and explain or show your work. Your answer may depend on $n$, $d$, and/or $k$.\n",
    "6. Explain the difference between parameters and hyperparameters. Which ones would we tend to tune with cross-validation? Why wouldn't cross validation be appropriate in the other case?"
   ]
  },
  {
   "cell_type": "markdown",
   "metadata": {},
   "source": [
    "#### Answer\n",
    "\n",
    "1.This would be a mistake. If we picked the depth of a decision tree based on training accuracy, we will overfit our model to the training data and reduce the predictive quality of the model on test data. We will likely choose a tree depth that is too large and create model an overfit model with high variance and low bias.    \n",
    "\n",
    "\n",
    "\n",
    "\n",
    "2.When using 50% of your training data as validation set and the other 50% as training data, we will have one and only one training error (based on perfomance on the training half) and one and only one validation error (based on performance on validation half). However, when using 2-fold cross validation, we use each 50% of the data as a training set once and as a validation set once. Therefore, our training error will be the averaged training error across the two training sets, while our validation error is the averaged validation error across the two validation sets. In cross-validation all observations have been used for validation while otherwise only 50% have been used for validation.   \n",
    "\n",
    "\n",
    "3.There is no difference   \n",
    "\n",
    "\n",
    "4.*Advantage:* the validation error in 10-fold cross-validation allows us to train a higher number of models on larger parts of the training data. This means, that the models we generate have a lower bias and will likely achieve better validation-scores. However, as usual, this omes at the expense of an increased variance of the generated models.  \n",
    "\n",
    "  \n",
    "*Disadvantage:* Aside from the increased variance of 10-fold cross-validation, this method is computationally more expensive. This is, because we are training 10 models on 90% of the data and validate 10 times on 10% of the data. In 3-fold cross-validation on the other hand, we train 3 models on 66.66% of the data and validate 3 times on 33.33% of the data. \n",
    "\n",
    "\n",
    "5.\n",
    "* training: \n",
    "\n",
    "With each fold $k$ we are training the model on the training-training data set with size $\\frac{n(k-1)}{k}$. Therefore, we can replace $n$ in general notation with  $\\frac{n(k-1)}{k}$ and multiply by the number of times we train our model $k$. This leads to a training-complexity of $O(k(\\frac{(k-1)n}{k})^2d)$\n",
    "\n",
    "* prediciton: \n",
    "\n",
    "Since use every observation in our data set of size $n$ one time for validation, we will have to do the prediction step n times. This leads to a prediciton-complexity of $\\mathcal{O(nd^2)}$\n",
    "\n",
    "6.Hyperparameters on the one hand, are set by us and determine the complexity of the model - by minimizing the cross-validation error we can attempt to find optimal hyperparameters. Parameters on the other hand, are determined by the algorithm in the training phase.  Using linear regression as an example, the hyperparameter is the amount of parameters in the model, while the parameters (intercept and slope(s)) are determined by minimizing squared errors.  \n"
   ]
  },
  {
   "cell_type": "markdown",
   "metadata": {},
   "source": [
    "## Exercise 1\n",
    "rubric={reasoning:4}\n",
    "\n",
    "Many statistics exist that we can use to assess how good a model is. Fill in the following table of model statistics:\n",
    "\n",
    "| Performance metric | Definition | When does it apply? \n",
    "|--------------------|---------------|------|\n",
    "|  AIC               | Penalizing an increasing number of predictors. <br>From wikipedia: Formula $\\frac{1}{n\\sigma^2}(RSS+2d\\sigma^2)$            | when the model is fit using maximum likelihood estimation. Based on [this source](https://www.sciencedirect.com/topics/pharmacology-toxicology-and-pharmaceutical-science/akaike-information-criterion)    |  \n",
    "|  BIC               | Like AIC: penalizing an increasing number of predictors. <br> Formula: $\\frac{1}{n\\sigma^2}(RSS+\\log(n)d\\sigma^2$           | when the model is fit using maximum likelihood. Based on [this source](https://www.sciencedirect.com/topics/pharmacology-toxicology-and-pharmaceutical-science/akaike-information-criterion)   |    \n",
    "|  MSE               | On average, how far are predicted values from true values <br> $=\\frac{RSS}{n}$ | Regression setting: numerical target variable  |     \n",
    "|  classification error rate |Fraction of training observations that does not belong in the most common class  Formula: $1- max(\\hat{p}_mk) $    | Classification setting: categorical target variable     |    \n",
    "|  adjusted $R^2$  | Adjusted normal $R^2$ to penalize additional parameters <br> Formula: $\\frac{RSS /(n - d - 1)}{TSS/ (n-1)}$   | Regression setting: numerical target variable     |    \n",
    "| [Mallow’s $C_p$](https://en.wikipedia.org/wiki/Mallows's_Cp)  |Selection of model fit penalizing the number of predictors and taking into consideration the variance of the full mode, Formula: $\\frac{1}{n}(RSS + 2d \\hat{\\sigma}^2)$ | Evaluation of regression model; commonly for stopping rules in stepwise selection    |   \n",
    "\n",
    "*hint - a good resource for these model statistics can be found in [\"An Introduction to Statistical Learning\"](http://www-bcf.usc.edu/~gareth/ISL/ISLR%20Sixth%20Printing.pdf) by Gareth James, Daniela Witten, Trevor Hastie and Robert Tibshirani. See Chapter 2 for MSE & classification error, and Chapter 6 for AIC, BIC, adjusted $R^2$ & Mallow’s $C_p$.*"
   ]
  },
  {
   "cell_type": "markdown",
   "metadata": {},
   "source": [
    "## Exercise 2: Digits and the fundamental tradeoff\n",
    "rubric={reasoning:3,code:3}\n",
    "\n",
    "Let's continue with the handwritten digits dataset we saw in DSCI 571. Using scikit learn's SVM implementation with an RBF kernel (the default), build a classifier for this dataset while sweepng the `gamma` parameter through the values $10^{-6}, 10^{-5}, \\ldots, 10^{-1}, 1$.\n",
    "\n",
    "1. What value of $\\gamma$ achieves the smallest training error?\n",
    "2. What value of $\\gamma$ achieves the smallest test error?\n",
    "3. Does finding this value seem like a good way of choosing $\\gamma$?\n",
    "4. How well does the training error approximate the test error for different values of $\\gamma$?\n",
    "5. How does the hyperparameter $\\gamma$ affect each of the two parts of the fundamental trade-off?\n",
    "6. (optional) On this same dataset, train a KNN classifier with $k=5$. Find a case in the test set where KNN makes an incorrect prediction. Then, show the test image along with the $5$ nearest neighbours that caused this incorrect prediction. Discuss what you see."
   ]
  },
  {
   "cell_type": "code",
   "execution_count": 325,
   "metadata": {},
   "outputs": [
    {
     "data": {
      "image/png": "[encoded data removed]",
      "text/plain": [
       "<matplotlib.figure.Figure at 0x30b8759128>"
      ]
     },
     "metadata": {},
     "output_type": "display_data"
    }
   ],
   "source": [
    "digits = datasets.load_digits()\n",
    "Xtrain, Xtest, ytrain, ytest = train_test_split(digits.data, digits.target, test_size=0.30, random_state=1)\n",
    "\n",
    "# Code to check the first image in the traing set\n",
    "img1 = Xtrain[0].reshape(8,8) \n",
    "plt.imshow(img1)\n",
    "plt.title(\"This is a %d\" % ytrain[0])\n",
    "plt.show()"
   ]
  },
  {
   "cell_type": "code",
   "execution_count": 326,
   "metadata": {
    "collapsed": true
   },
   "outputs": [],
   "source": [
    "# using the default rbf kernel looking for optimal C parameter\n",
    "\n",
    "#creating lists to capture errors\n",
    "train_error_list = []\n",
    "val_error_list = []\n",
    "index_list = []\n",
    "approx_error_list = []\n",
    "#ommitting 1 to make plot more readable\n",
    "gamma_list = [10**-7,10**-6, 10**-5,10**-4,10**-3,10**-2,10**-1,1]\n",
    "\n",
    "#iterating over different values for C\n",
    "for i in gamma_list:\n",
    "    rbf_SVC = SVC(gamma = i)\n",
    "    rbf_SVC.fit(Xtrain, ytrain)\n",
    "    train_error = 1.0-rbf_SVC.score(Xtrain,ytrain)\n",
    "    val_error = 1.0-rbf_SVC.score(Xtest,ytest)\n",
    "    train_error_list.append(train_error)\n",
    "    val_error_list.append(val_error)\n",
    "    approx_error_list.append(val_error - train_error)\n",
    "    index_list.append(i)"
   ]
  },
  {
   "cell_type": "code",
   "execution_count": 327,
   "metadata": {},
   "outputs": [
    {
     "data": {
      "image/png": "[encoded data removed]",
      "text/plain": [
       "<matplotlib.figure.Figure at 0x30b8ba25c0>"
      ]
     },
     "metadata": {},
     "output_type": "display_data"
    }
   ],
   "source": [
    "#plotting the two errors in relation to n_estimators. \n",
    "# test error: red \n",
    "# train error: blue\n",
    "\n",
    "plt.plot(index_list, val_error_list,\"r\", index_list, train_error_list)\n",
    "plt.title('Influence gamma on error')\n",
    "\n",
    "plt.xlabel('Gamma')\n",
    "plt.ylabel('Error Rate')\n",
    "plt.xscale('log')"
   ]
  },
  {
   "cell_type": "code",
   "execution_count": 328,
   "metadata": {},
   "outputs": [
    {
     "name": "stdout",
     "output_type": "stream",
     "text": [
      "   approximation error         gamma  train error  validation error\n",
      "0             0.020362  1.000000e-07     0.892601          0.912963\n",
      "1             0.020362  1.000000e-06     0.892601          0.912963\n",
      "2             0.001626  1.000000e-05     0.094670          0.096296\n",
      "3             0.011332  1.000000e-04     0.018298          0.029630\n",
      "4             0.007668  1.000000e-03     0.001591          0.009259\n",
      "5             0.264815  1.000000e-02     0.000000          0.264815\n",
      "6             0.912963  1.000000e-01     0.000000          0.912963\n",
      "7             0.912963  1.000000e+00     0.000000          0.912963\n"
     ]
    }
   ],
   "source": [
    "#summarizing numerical results \n",
    "columns = {'gamma': gamma_list,'train error':train_error_list, 'validation error': val_error_list, 'approximation error': approx_error_list}\n",
    "error_df = pd.DataFrame(columns)\n",
    "cols = error_df.columns.tolist()\n",
    "cols = cols[:-1] + cols[-1:] \n",
    "print (error_df[cols])"
   ]
  },
  {
   "cell_type": "markdown",
   "metadata": {},
   "source": [
    "#### Answer\n",
    "\n",
    "1. Large `gamma` values yield the lowest training error although the training error already reaches 0 `gamma` at greater than 0.01. This is not surprising since we expect models with large `gamma` values to have high variance and low bias (overfit).\n",
    "\n",
    "2. `gamma` of 0.001 yields the lowest validation error. Validation error: 0.009259\n",
    "\n",
    "3. In general this method is a good way of estimatign the value for `gamma` since it can be considered our \"best guess\" at the ideal value for `gamma`. In the above example, the validation error can be used as an estimate for the performance of our model on unknown test data. However, based on the split of our data into training and test data, all models are trained on the same part of the data (Xtrain) and evaluated on the same data (Ytest). This intoduces a risk of attaining low validation-error simply by chance, known as optimization bias.\n",
    "\n",
    "4. The above table shows that the difference between test and validation error is the lowest for a `gamma` value of 0.001 and increases for larger `gamma` values. This means, the ability of the training error to approximate validation error decreases\n",
    "\n",
    "5. In general, large values of `gamma` indicate a large influence of training observations close to the hyperplane - this indicates a high variance and low bias (potential overfitting). Low values of `gamma` indicate that even training observations far away from the hyperplane have an influence on the classification - this indicates low variance and high bias (potential underfitting). "
   ]
  },
  {
   "cell_type": "markdown",
   "metadata": {},
   "source": [
    "### Exercise 2b: built-in CV methods\n",
    "rubric={reasoning:3,code:3}\n",
    "\n",
    "The exercise we did above is a pretty common one: try a bunch of different hyperparameter values and pick the lowest validation (or cross-validation) error. This operation is so common, in fact, that scikit-learn has some built in functions to do it for you. We will focus on [`sklearn.model_selection.GridSearchCV`](http://scikit-learn.org/stable/modules/generated/sklearn.model_selection.GridSearchCV.html). As the name implies, this class performs a grid search in parameter space. Your tasks:\n",
    "\n",
    "1. Once again find the best `gamma` for the digits task, but this time using `GridSearchCV` with default parameters (this will do 3-fold cross-validation by default). Do you get the same result as above? Note: after running `fit` on the `GridSearchCV` object, you can access the results with `cv.best_params_` and `cv.best_score_` if `cv` is your `GridSearchCV` object.\n",
    "2. Now that this is all set up, it should be easy to optimize other parameters as well. Expand your search to cover the `C` parameter in addition to `gamma`. Can you get a lower cross-validation error than searching over `gamma` only?\n",
    "3. In the previous part, are you sure your conclusion is valid? For example, is there randomness in your experiments? What parts of your experiment pipeline are random? How might you mitigate this randomness in order to draw sound conclusions?\n",
    "4. When searching over both `C` and `gamma`, did you get the same best `gamma` value that you got when optimizing `gamma` only? Do you expect this behavior in general?\n",
    "5. In addition to `GridSearchCV` there are other approaches like `RandomizedSearchCV`, which, as its name implies, tries random hyperparameter configurations instead of performing an exhaustive grid search. Name a situation in which random search would be strongly preferable over a grid search, and briefly explain why."
   ]
  },
  {
   "cell_type": "markdown",
   "metadata": {},
   "source": [
    "#### Answer"
   ]
  },
  {
   "cell_type": "code",
   "execution_count": 329,
   "metadata": {},
   "outputs": [
    {
     "name": "stdout",
     "output_type": "stream",
     "text": [
      "Like in the above approach, the ideal gamma using `grid_search` is:  {'gamma': 0.001} and the best score is:  0.986475735879\n"
     ]
    }
   ],
   "source": [
    "#1\n",
    "parameters = {\"gamma\" : [10**-7,10**-6, 10**-5,10**-4,10**-3,10**-2,10**-1]}\n",
    "svc = SVC()\n",
    "grid_search = GridSearchCV(svc, parameters)\n",
    "grid_search.fit(Xtrain,ytrain)\n",
    "\n",
    "\n",
    "print(\"Like in the above approach, the ideal gamma using `grid_search` is: \", grid_search.best_params_, \"and the best score is: \", grid_search.best_score_)"
   ]
  },
  {
   "cell_type": "code",
   "execution_count": 330,
   "metadata": {},
   "outputs": [
    {
     "name": "stdout",
     "output_type": "stream",
     "text": [
      "Using GridSearchCV, the optimal parameters are:  {'C': 2, 'gamma': 0.001} and the best score is:  0.988066825776\n"
     ]
    }
   ],
   "source": [
    "#2\n",
    "parameters = {\"gamma\" : [10**-7,10**-6, 10**-5,10**-4,10**-3,10**-2,10**-1], \"C\" : list(range(1,100,1)) }\n",
    "svc = SVC()\n",
    "grid_search = GridSearchCV(svc, parameters)\n",
    "grid_search.fit(Xtrain,ytrain)\n",
    "\n",
    "print(\"Using GridSearchCV, the optimal parameters are: \",grid_search.best_params_,\"and the best score is: \",grid_search.best_score_)"
   ]
  },
  {
   "cell_type": "markdown",
   "metadata": {
    "collapsed": true
   },
   "source": [
    "3.Randomness introduced by split of trainig data in training and validation set. ADD MORE EXPLANATION \n",
    "\n",
    "\n",
    "4.The above Results indicate that the gamma-paramater remains the same across the two methods. Further, we observe that we are able to slightly increase the model's score when looking for an optimal combination of the parameters `C` and `gamma`. In general, I expect that the optimal `gamma` found in the above approaches is a local optimum, that is  equal between the two approaches. I would not be surprised to find another minimum with a different combination of parameters.\n",
    "\n",
    "\n",
    "5.Performing and exhaustive grid-search increases the **risk of optimization bias.** Since the algorithm fits and validates many models across an exhaustive range of hyperparameters, the risk of achieving a low validation score simply by chance increases with every additional model we fit. Further, exhaustive grid-search can get **computationally expensive.** Therefore, if we are for example searching for an optimal combination of multiple hyperparameters that can all vary across a large number of values, it can be preferrable to use a randomized search of hyperparamters to save computational capacity and time and reduce the risk of optimization bias. "
   ]
  },
  {
   "cell_type": "markdown",
   "metadata": {},
   "source": [
    "## (optional) Exercise 3: more sophisticated hyperparameter tuning. \n",
    "rubric={reasoning:1} \n",
    "\n",
    "There are all sorts of software packages that make hyperparameter tuning with scikit-learn even more automated.  For example:\n",
    "\n",
    "- [hyperopt-sklearn](https://github.com/hyperopt/hyperopt-sklearn)\n",
    "- [auto-sklearn](https://github.com/automl/auto-sklearn)\n",
    "- [SigOptSearchCV](https://sigopt.com/docs/overview/scikit_learn)\n",
    "\n",
    "Give one of these a try and report your thoughts. Or, if you're even more adventurous, you could try a package that isn't tied to scikit-learn. There are many options for you to play around with in your ample free time:\n",
    "\n",
    "- [TPOT](https://github.com/rhiever/tpot)\n",
    "- [hyperopt](https://github.com/hyperopt/hyperopt)\n",
    "- [hyperband](https://github.com/zygmuntz/hyperband)\n",
    "- [SMAC](http://www.cs.ubc.ca/labs/beta/Projects/SMAC/)\n",
    "- [MOE](https://github.com/Yelp/MOE)\n",
    "- [pybo](https://github.com/mwhoffman/pybo)\n",
    "- [spearmint](https://github.com/HIPS/Spearmint)\n",
    "- [BayesOpt](https://github.com/rmcantin/bayesopt)\n",
    "\n",
    "Note: this list is biased towards the type of optimizers I (Mike) know best, which is a technique called Bayesian optimization. This list isn't meant to be exhaustive. \n",
    "\n",
    "In other news, the recently announced [Amazon SageMaker](https://aws.amazon.com/sagemaker/) is also supposed to do hyperparameter optimization for you (among many other things it does)."
   ]
  },
  {
   "cell_type": "markdown",
   "metadata": {},
   "source": [
    "## Exercise 4: cross-validation\n",
    "rubric={reasoning:3,code:3}\n",
    "\n",
    "Using sklearn's `DecisionTreeClassifier` on the 10-feature dataset [`carseats.csv`](../../data/carseats.csv), compute the 10-fold cross-validation scores on the training data alone using sklearn's [`cross_val_score`](http://scikit-learn.org/stable/modules/generated/sklearn.model_selection.cross_val_score.html). Report the cross-validation error for all depths (averaging over the error for the two folds). Write a couple sentences interpreting your results and recommending a good depth to use. \n",
    "\n",
    "A few notes on the dataset:\n",
    "- $Y$ is `HighSales`\n",
    "- `HighSales == 'Yes'` when unit sales (in thousands) > 8\n",
    "- the [`carseats.csv`](data/carseats.csv) was derived from the ISLR R package, more detail can be found about this dataset on page 4 of the [ISLR package documentation](https://cran.r-project.org/web/packages/ISLR/ISLR.pdf)\n",
    "\n",
    "Then, when you are done, compare cross-validation to regular validation (splitting your training set into two parts -- you can choose the split percentages). Run some experiments to assess whether you are getting benefits from doing cross-validation as opposed to regular validation. You'll need to think of what experiments might make this clear."
   ]
  },
  {
   "cell_type": "code",
   "execution_count": 2,
   "metadata": {
    "collapsed": true,
    "scrolled": true
   },
   "outputs": [],
   "source": [
    "carseats = pd.read_csv(\"https://raw.github.ubc.ca/ubc-mds-2017/DSCI_573_feat-model-select_students/master/data/carseats.csv?token=AAADk4YfliMoVcpa3HDJui6iYSdTPFgfks5aXnyCwA%3D%3D\")\n",
    "#tree_model = DecisionTreeClassifier()\n",
    "\n",
    "#changing character-features to numerical features\n",
    "carseats[\"HighSales\"] = pd.Series(np.where(carseats.iloc[:,10].values == \"Yes\",1,0), carseats.index)\n",
    "carseats[\"US\"] = pd.Series(np.where(carseats.iloc[:,9].values == \"Yes\",1,0), carseats.index)\n",
    "carseats[\"Urban\"] = pd.Series(np.where(carseats.iloc[:,8].values == \"Yes\",1,0), carseats.index)\n",
    "carseats[\"ShelveLoc\"] = pd.Series(np.where(carseats.iloc[:,5].values == \"Good\",2,carseats.iloc[:,5].values), carseats.index)\n",
    "carseats[\"ShelveLoc\"] = pd.Series(np.where(carseats.iloc[:,5].values == \"Medium\",1,carseats.iloc[:,5].values), carseats.index)\n",
    "carseats[\"ShelveLoc\"] = pd.Series(np.where(carseats.iloc[:,5].values == \"Bad\",0,carseats.iloc[:,5].values), carseats.index)\n",
    "\n",
    "\n",
    "#removing labels from training dataset\n",
    "X_train = carseats.iloc[:,0:10]\n",
    "y_train = carseats.iloc[:,10]\n",
    "\n",
    "\n",
    "avg_cv_error_list = []\n",
    "index_list = []\n",
    "\n",
    "for i in range(1,50):\n",
    "    #initiating tree model \n",
    "    tree_model = DecisionTreeClassifier(max_depth = i)\n",
    "    cross_val_score(tree_model, X_train, y_train, cv = 10)\n",
    "    #calculating 10-fold cross-validation error \n",
    "    avg_cv_error = 1- np.mean(cross_val_score(tree_model, X_train, y_train, cv = 10))\n",
    "    avg_cv_error_list.append(avg_cv_error)\n",
    "    index_list.append(i)\n",
    "    "
   ]
  },
  {
   "cell_type": "code",
   "execution_count": 3,
   "metadata": {
    "collapsed": true
   },
   "outputs": [],
   "source": [
    "Xtrain, Xtest, ytrain, ytest = train_test_split(X_train, y_train, test_size=0.30, random_state=1)\n",
    "\n",
    "val_error_list =[]\n",
    "\n",
    "for i in range(1,50):\n",
    "    #initiating tree model \n",
    "    tree_model = DecisionTreeClassifier(max_depth = i)\n",
    "    tree_model.fit(Xtrain, ytrain)\n",
    "    val_error = 1- tree_model.score(Xtest, ytest)\n",
    "    val_error_list.append(val_error)\n",
    "    \n",
    "    "
   ]
  },
  {
   "cell_type": "code",
   "execution_count": 10,
   "metadata": {},
   "outputs": [
    {
     "data": {
      "text/html": [
       "<div>\n",
       "<style>\n",
       "    .dataframe thead tr:only-child th {\n",
       "        text-align: right;\n",
       "    }\n",
       "\n",
       "    .dataframe thead th {\n",
       "        text-align: left;\n",
       "    }\n",
       "\n",
       "    .dataframe tbody tr th {\n",
       "        vertical-align: top;\n",
       "    }\n",
       "</style>\n",
       "<table border=\"1\" class=\"dataframe\">\n",
       "  <thead>\n",
       "    <tr style=\"text-align: right;\">\n",
       "      <th></th>\n",
       "      <th>average cv error</th>\n",
       "      <th>validation error</th>\n",
       "    </tr>\n",
       "  </thead>\n",
       "  <tbody>\n",
       "    <tr>\n",
       "      <th>0</th>\n",
       "      <td>0.292638</td>\n",
       "      <td>0.291667</td>\n",
       "    </tr>\n",
       "    <tr>\n",
       "      <th>1</th>\n",
       "      <td>0.279820</td>\n",
       "      <td>0.266667</td>\n",
       "    </tr>\n",
       "    <tr>\n",
       "      <th>2</th>\n",
       "      <td>0.297894</td>\n",
       "      <td>0.258333</td>\n",
       "    </tr>\n",
       "    <tr>\n",
       "      <th>3</th>\n",
       "      <td>0.253058</td>\n",
       "      <td>0.283333</td>\n",
       "    </tr>\n",
       "    <tr>\n",
       "      <th>4</th>\n",
       "      <td>0.305962</td>\n",
       "      <td>0.216667</td>\n",
       "    </tr>\n",
       "  </tbody>\n",
       "</table>\n",
       "</div>"
      ],
      "text/plain": [
       "   average cv error  validation error\n",
       "0          0.292638          0.291667\n",
       "1          0.279820          0.266667\n",
       "2          0.297894          0.258333\n",
       "3          0.253058          0.283333\n",
       "4          0.305962          0.216667"
      ]
     },
     "execution_count": 10,
     "metadata": {},
     "output_type": "execute_result"
    }
   ],
   "source": [
    "columns = {'average cv error': avg_cv_error_list,'validation error':val_error_list}\n",
    "error_df = pd.DataFrame(columns)\n",
    "error_df.head(n=5)"
   ]
  },
  {
   "cell_type": "code",
   "execution_count": 6,
   "metadata": {
    "scrolled": true
   },
   "outputs": [
    {
     "data": {
      "text/plain": [
       "<matplotlib.text.Text at 0xe7e3a5a828>"
      ]
     },
     "execution_count": 6,
     "metadata": {},
     "output_type": "execute_result"
    },
    {
     "data": {
      "image/png": "[encoded data removed]",
      "text/plain": [
       "<matplotlib.figure.Figure at 0xe7e36fda20>"
      ]
     },
     "metadata": {},
     "output_type": "display_data"
    }
   ],
   "source": [
    "plt.plot(index_list, avg_cv_error_list,\"r\", index_list, val_error_list)\n",
    "plt.title('Comparison Validation & Crossvalidation vs. Tree Depth')"
   ]
  },
  {
   "cell_type": "markdown",
   "metadata": {},
   "source": [
    "In the above plot, we observe that - across differnt tree depths - the average cross-validation error is cosistently higher and less variable than the validation error generated by a single split. Intuitively, the lower variation of the cross-validation error can easily be explained by the fact that we are reporting an average validation error across the 10 folds. Further, the above plot indicates, that the cross-validation error is likely a better estimate for the true test error by reducing the randomness introduced by the split of the data."
   ]
  },
  {
   "cell_type": "markdown",
   "metadata": {},
   "source": [
    "## Exercise 5a: picking the number polynomial features\n",
    "rubric={reasoning:2,code:2}\n",
    "\n",
    "The following code loads a 1-D data set and fits a linear model to  it.\n"
   ]
  },
  {
   "cell_type": "code",
   "execution_count": 4,
   "metadata": {},
   "outputs": [
    {
     "data": {
      "text/plain": [
       "array([[  3.29914141e+00],\n",
       "       [ -2.09537508e+00],\n",
       "       [ -9.74456079e-01],\n",
       "       [  3.62057298e+00],\n",
       "       [  1.14739550e+00],\n",
       "       [  4.91187788e+00],\n",
       "       [ -2.96301125e+00],\n",
       "       [  3.27209085e+00],\n",
       "       [  1.75861619e+00],\n",
       "       [ -2.51050530e+00],\n",
       "       [ -2.42143734e-01],\n",
       "       [ -1.00924773e+00],\n",
       "       [  9.94382491e-01],\n",
       "       [  3.00522766e+00],\n",
       "       [ -3.94931229e+00],\n",
       "       [  3.21442194e+00],\n",
       "       [  3.41086330e+00],\n",
       "       [ -1.45493756e+00],\n",
       "       [ -6.99305374e-01],\n",
       "       [  7.22392184e-01],\n",
       "       [  2.00824731e+00],\n",
       "       [  2.42469757e+00],\n",
       "       [  2.57884151e+00],\n",
       "       [ -1.10871236e+00],\n",
       "       [ -7.06975150e-01],\n",
       "       [  4.56344658e+00],\n",
       "       [  7.29713673e-01],\n",
       "       [  3.49722054e+00],\n",
       "       [ -2.23654684e+00],\n",
       "       [  1.22323615e+00],\n",
       "       [  8.83616846e-01],\n",
       "       [  4.63468466e+00],\n",
       "       [ -4.14097305e+00],\n",
       "       [  4.98891604e-03],\n",
       "       [  2.15896765e-01],\n",
       "       [ -4.09833998e+00],\n",
       "       [  4.04666480e+00],\n",
       "       [  3.84388939e+00],\n",
       "       [ -6.10103332e-01],\n",
       "       [  2.81722613e+00],\n",
       "       [ -3.51534977e+00],\n",
       "       [  1.19815927e+00],\n",
       "       [ -2.39376321e+00],\n",
       "       [ -5.43437886e-01],\n",
       "       [  3.43999511e+00],\n",
       "       [ -3.03795081e+00],\n",
       "       [ -1.96148377e+00],\n",
       "       [ -1.67054323e-01],\n",
       "       [ -1.62187956e+00],\n",
       "       [  2.98485830e+00],\n",
       "       [  4.87487575e+00],\n",
       "       [ -3.40952445e+00],\n",
       "       [ -2.63120217e+00],\n",
       "       [  2.02236633e+00],\n",
       "       [ -1.24528337e+00],\n",
       "       [  4.73704903e+00],\n",
       "       [  4.72305556e+00],\n",
       "       [  1.43698049e+00],\n",
       "       [  3.60098877e+00],\n",
       "       [ -9.81166020e-01],\n",
       "       [  1.31930798e+00],\n",
       "       [  4.85236639e+00],\n",
       "       [  5.94774060e-01],\n",
       "       [  4.33591916e+00],\n",
       "       [  2.20343206e+00],\n",
       "       [ -1.59614832e-01],\n",
       "       [  1.39031093e+00],\n",
       "       [  3.87636866e+00],\n",
       "       [ -3.01263250e+00],\n",
       "       [ -1.04633726e+00],\n",
       "       [  4.92175302e+00],\n",
       "       [ -9.76483831e-01],\n",
       "       [  1.58856481e+00],\n",
       "       [  4.01348123e+00],\n",
       "       [  4.95381777e+00],\n",
       "       [  1.53163281e+00],\n",
       "       [ -3.91563572e+00],\n",
       "       [ -4.63885969e+00],\n",
       "       [  1.18091239e+00],\n",
       "       [  6.71443619e-01],\n",
       "       [  4.61964658e+00],\n",
       "       [  2.46105469e+00],\n",
       "       [  1.62516098e+00],\n",
       "       [  2.33133184e-01],\n",
       "       [ -2.40105719e+00],\n",
       "       [  4.61993767e+00],\n",
       "       [  4.02040375e-01],\n",
       "       [ -4.69729837e+00],\n",
       "       [  1.96314463e+00],\n",
       "       [  1.97161579e-01],\n",
       "       [ -4.40969444e+00],\n",
       "       [  3.90036233e+00],\n",
       "       [ -1.69797757e+00],\n",
       "       [ -2.70298802e+00],\n",
       "       [ -3.86051358e+00],\n",
       "       [ -1.89077287e+00],\n",
       "       [ -2.71567678e+00],\n",
       "       [  1.51997167e+00],\n",
       "       [ -4.33839875e+00],\n",
       "       [ -2.24568620e+00],\n",
       "       [ -2.18179762e+00],\n",
       "       [  3.80066260e+00],\n",
       "       [ -5.56696413e-01],\n",
       "       [  2.55914121e+00],\n",
       "       [  1.03296376e+00],\n",
       "       [  2.83265937e+00],\n",
       "       [ -3.86069361e+00],\n",
       "       [  4.78563885e+00],\n",
       "       [  3.48596675e+00],\n",
       "       [ -4.49353502e+00],\n",
       "       [ -3.37981662e-01],\n",
       "       [ -1.74346725e+00],\n",
       "       [  1.30205125e+00],\n",
       "       [ -2.69700836e+00],\n",
       "       [  7.98849733e-01],\n",
       "       [  1.03156320e+00],\n",
       "       [  9.98790958e-01],\n",
       "       [ -5.15721196e-01],\n",
       "       [ -4.64576539e+00],\n",
       "       [  1.38148350e-01],\n",
       "       [ -9.22698382e-01],\n",
       "       [ -3.91953963e+00],\n",
       "       [ -4.01243711e-01],\n",
       "       [ -4.91172463e-01],\n",
       "       [  5.11403358e-01],\n",
       "       [  3.05404317e+00],\n",
       "       [  2.00850073e+00],\n",
       "       [  3.72235504e+00],\n",
       "       [ -4.47807848e+00],\n",
       "       [ -2.80318689e+00],\n",
       "       [ -4.03579899e-01],\n",
       "       [  4.58533596e+00],\n",
       "       [  2.90045357e+00],\n",
       "       [ -4.81253910e-01],\n",
       "       [ -1.66571814e+00],\n",
       "       [ -4.40904687e+00],\n",
       "       [  2.40905303e+00],\n",
       "       [  6.79452406e-02],\n",
       "       [ -3.00074587e+00],\n",
       "       [ -7.28064489e-01],\n",
       "       [ -3.31309721e+00],\n",
       "       [  2.51694591e+00],\n",
       "       [ -1.31649158e+00],\n",
       "       [  4.41817795e+00],\n",
       "       [ -4.82827459e+00],\n",
       "       [  3.29055909e+00],\n",
       "       [  1.26590975e+00],\n",
       "       [  3.87465152e-01],\n",
       "       [  1.50507635e+00],\n",
       "       [  2.26629532e+00],\n",
       "       [ -4.05511436e+00],\n",
       "       [  3.77573934e+00],\n",
       "       [ -4.85637856e+00],\n",
       "       [ -2.05697373e+00],\n",
       "       [ -3.20085121e+00],\n",
       "       [  4.26294268e+00],\n",
       "       [ -4.31819563e+00],\n",
       "       [  8.10932276e-01],\n",
       "       [  1.37151223e+00],\n",
       "       [  1.51269265e+00],\n",
       "       [  3.64622013e+00],\n",
       "       [ -4.44047471e+00],\n",
       "       [  3.16855174e+00],\n",
       "       [  2.89224663e-01],\n",
       "       [  1.94350561e+00],\n",
       "       [ -2.87595104e+00],\n",
       "       [  4.32799462e-01],\n",
       "       [  2.02520272e+00],\n",
       "       [  4.56434557e+00],\n",
       "       [ -5.54578371e-01],\n",
       "       [ -4.14602169e+00],\n",
       "       [ -4.42659852e+00],\n",
       "       [  1.29450486e+00],\n",
       "       [  2.96179066e+00],\n",
       "       [  1.91191333e+00],\n",
       "       [ -1.54692138e+00],\n",
       "       [  4.46816667e+00],\n",
       "       [  2.01903182e-01],\n",
       "       [  4.53813025e+00],\n",
       "       [ -4.26404364e+00],\n",
       "       [ -2.92968052e+00],\n",
       "       [  2.75027814e+00],\n",
       "       [  4.14187821e+00],\n",
       "       [  2.82550648e+00],\n",
       "       [ -2.04465804e+00],\n",
       "       [ -3.48154278e+00],\n",
       "       [  3.47910522e+00],\n",
       "       [  2.84854591e+00],\n",
       "       [ -2.29168498e+00],\n",
       "       [ -2.72189295e+00],\n",
       "       [ -1.78976783e+00],\n",
       "       [  3.29561804e+00],\n",
       "       [  3.22182195e+00],\n",
       "       [  7.06828505e-01],\n",
       "       [  7.18296362e-01],\n",
       "       [ -2.13981728e+00],\n",
       "       [  1.99133559e+00],\n",
       "       [  2.96257943e+00],\n",
       "       [ -5.84109438e-01],\n",
       "       [ -5.37843883e-01],\n",
       "       [ -3.43375916e-01],\n",
       "       [ -2.20960813e+00],\n",
       "       [  1.75375318e+00],\n",
       "       [  4.03664526e+00],\n",
       "       [  4.08525899e+00],\n",
       "       [  2.47196944e+00],\n",
       "       [ -2.39488493e+00],\n",
       "       [  1.89637840e+00],\n",
       "       [ -3.68169335e+00],\n",
       "       [ -3.76499168e+00],\n",
       "       [ -3.09097147e+00],\n",
       "       [ -3.54267901e+00],\n",
       "       [  8.50436153e-01],\n",
       "       [ -4.26638310e+00],\n",
       "       [  3.22326222e+00],\n",
       "       [  2.22902973e+00],\n",
       "       [  4.25858038e+00],\n",
       "       [ -7.36140154e-02],\n",
       "       [  1.54882898e+00],\n",
       "       [  3.90123478e+00],\n",
       "       [  3.85255745e-01],\n",
       "       [ -2.17794835e+00],\n",
       "       [  4.75957518e+00],\n",
       "       [ -4.63574484e+00],\n",
       "       [ -1.73755427e+00],\n",
       "       [  4.73013624e+00],\n",
       "       [ -1.34967375e+00],\n",
       "       [ -1.90850381e+00],\n",
       "       [ -3.79087615e+00],\n",
       "       [  4.15765704e+00],\n",
       "       [ -3.64521794e+00],\n",
       "       [ -1.67882108e+00],\n",
       "       [  3.97479892e+00],\n",
       "       [ -3.51222153e-03],\n",
       "       [  1.15288242e+00],\n",
       "       [  8.31329681e-01],\n",
       "       [  1.98253927e+00],\n",
       "       [ -4.70667657e+00],\n",
       "       [  2.78826877e-01],\n",
       "       [ -4.67927154e+00],\n",
       "       [  3.27142323e+00],\n",
       "       [ -1.60013794e+00],\n",
       "       [  3.46710959e+00],\n",
       "       [ -2.53930433e+00],\n",
       "       [  8.14912524e-01],\n",
       "       [  4.37676879e+00],\n",
       "       [ -4.52212708e+00],\n",
       "       [ -4.46022341e+00],\n",
       "       [ -4.79381966e+00],\n",
       "       [  1.81478514e+00],\n",
       "       [  9.86285266e-01],\n",
       "       [ -3.85969965e+00],\n",
       "       [  2.96245351e+00],\n",
       "       [  1.17850587e+00],\n",
       "       [ -4.29786476e+00],\n",
       "       [ -4.30721027e+00],\n",
       "       [ -3.63992611e+00],\n",
       "       [  2.88891320e+00],\n",
       "       [ -4.07601542e+00],\n",
       "       [ -2.62131208e+00],\n",
       "       [ -2.56352087e+00],\n",
       "       [ -3.95177787e+00],\n",
       "       [  3.58352760e+00],\n",
       "       [  1.98199766e+00],\n",
       "       [  2.33742133e+00],\n",
       "       [  1.50530624e+00],\n",
       "       [  1.62705658e-01],\n",
       "       [ -1.73611865e+00],\n",
       "       [  1.61776197e+00],\n",
       "       [ -3.82434515e+00],\n",
       "       [ -3.52182586e+00],\n",
       "       [ -4.80235336e+00],\n",
       "       [  4.64291730e+00],\n",
       "       [  4.70372902e+00],\n",
       "       [ -3.76139493e+00],\n",
       "       [ -3.25899732e-01],\n",
       "       [  1.56694003e+00],\n",
       "       [ -2.09814433e+00],\n",
       "       [  2.54536640e+00],\n",
       "       [  5.81180514e-01],\n",
       "       [ -7.22074045e-01],\n",
       "       [ -2.32805943e+00],\n",
       "       [  2.53736074e+00],\n",
       "       [  3.98376325e+00],\n",
       "       [  2.28444034e+00],\n",
       "       [ -9.31698653e-01],\n",
       "       [  4.38315840e+00],\n",
       "       [ -2.44572545e+00],\n",
       "       [  3.31632406e-01],\n",
       "       [  4.54754870e+00],\n",
       "       [ -2.32252464e+00],\n",
       "       [ -2.49915379e+00],\n",
       "       [  4.27672720e+00],\n",
       "       [ -4.31417651e+00],\n",
       "       [ -2.00599613e+00],\n",
       "       [  9.15835342e-01],\n",
       "       [ -2.96700855e+00],\n",
       "       [  1.35883199e+00],\n",
       "       [  2.98370258e+00],\n",
       "       [  1.70105236e-02],\n",
       "       [  1.50812136e+00],\n",
       "       [  2.95954986e+00],\n",
       "       [ -2.66626232e+00],\n",
       "       [  1.00838938e+00],\n",
       "       [ -3.87537622e+00],\n",
       "       [  1.57656532e-01],\n",
       "       [  3.37840691e+00],\n",
       "       [  4.20790108e+00],\n",
       "       [ -1.77207054e-02],\n",
       "       [ -2.22388878e+00],\n",
       "       [  1.52519961e+00],\n",
       "       [  4.17298804e+00],\n",
       "       [  9.83945351e-02],\n",
       "       [  4.74191484e+00],\n",
       "       [ -3.02721058e+00],\n",
       "       [ -3.88815016e+00],\n",
       "       [ -2.02645707e+00],\n",
       "       [ -1.03581464e+00],\n",
       "       [ -7.92443167e-01],\n",
       "       [ -1.88524642e+00],\n",
       "       [  1.93843171e+00],\n",
       "       [ -4.08128167e+00],\n",
       "       [ -9.79113810e-01],\n",
       "       [ -2.04819196e+00],\n",
       "       [ -1.93503221e+00],\n",
       "       [ -3.94438869e+00],\n",
       "       [  9.38276046e-01],\n",
       "       [ -2.17272484e+00],\n",
       "       [ -3.44778379e+00],\n",
       "       [ -4.99341332e+00],\n",
       "       [ -2.16404583e+00],\n",
       "       [  5.08108750e-01],\n",
       "       [  3.70902192e+00],\n",
       "       [ -4.57746575e+00],\n",
       "       [  4.04721981e+00],\n",
       "       [ -3.69025914e+00],\n",
       "       [  3.33728948e+00],\n",
       "       [  3.00468375e+00],\n",
       "       [  4.17880092e+00],\n",
       "       [ -3.62696342e+00],\n",
       "       [  4.73231756e-02],\n",
       "       [ -9.50415199e-01],\n",
       "       [ -3.26427838e+00],\n",
       "       [  7.51836125e-01],\n",
       "       [  1.06217933e+00],\n",
       "       [ -2.85554260e+00],\n",
       "       [  1.99322551e-01],\n",
       "       [  4.89185810e+00],\n",
       "       [ -1.00848376e-01],\n",
       "       [  1.94873211e+00],\n",
       "       [ -8.85781726e-01],\n",
       "       [ -4.65223260e+00],\n",
       "       [ -2.07168444e+00],\n",
       "       [  3.01441738e+00],\n",
       "       [ -1.53498009e+00],\n",
       "       [ -4.16684055e+00],\n",
       "       [  1.11063709e-01],\n",
       "       [ -1.33166592e+00],\n",
       "       [  2.39479505e+00],\n",
       "       [  2.47401639e-01],\n",
       "       [  3.04520877e+00],\n",
       "       [  3.16911179e+00],\n",
       "       [ -3.10528518e+00],\n",
       "       [ -3.76306543e+00],\n",
       "       [  3.20996479e+00],\n",
       "       [  1.37897620e+00],\n",
       "       [ -4.83880198e+00],\n",
       "       [  3.95954628e+00],\n",
       "       [  1.53750571e-01],\n",
       "       [  4.45219383e-01],\n",
       "       [  1.06442208e+00],\n",
       "       [  2.60436218e+00],\n",
       "       [  3.55346872e+00],\n",
       "       [ -1.17131552e+00],\n",
       "       [ -4.15350811e+00],\n",
       "       [  2.33873299e+00],\n",
       "       [ -1.68010667e+00],\n",
       "       [  3.39749535e+00],\n",
       "       [ -1.28276692e+00],\n",
       "       [  3.28215270e+00],\n",
       "       [ -3.23481371e+00],\n",
       "       [ -3.70480139e+00],\n",
       "       [  3.79883582e+00],\n",
       "       [ -4.55920872e+00],\n",
       "       [  1.86720018e+00],\n",
       "       [  2.33772905e+00],\n",
       "       [ -6.28275628e-01],\n",
       "       [ -1.20161083e+00],\n",
       "       [  4.79657440e+00],\n",
       "       [ -1.01006577e+00],\n",
       "       [ -5.98130857e-01],\n",
       "       [ -3.43192112e+00],\n",
       "       [ -1.73965716e+00],\n",
       "       [ -1.85938071e+00],\n",
       "       [  3.94500664e+00],\n",
       "       [ -2.52975821e+00],\n",
       "       [ -1.89320984e+00],\n",
       "       [ -9.11310920e-01],\n",
       "       [  2.08010894e+00],\n",
       "       [ -3.56362405e+00],\n",
       "       [  3.71322067e+00],\n",
       "       [ -4.16844103e+00],\n",
       "       [ -3.82621616e-01],\n",
       "       [ -4.69610976e+00],\n",
       "       [  2.53200533e+00],\n",
       "       [  2.00042670e+00],\n",
       "       [ -2.85487754e+00],\n",
       "       [  1.79904686e+00],\n",
       "       [  5.72926807e-01],\n",
       "       [  3.50678903e+00],\n",
       "       [  5.85654918e-01],\n",
       "       [  4.01773664e+00],\n",
       "       [ -8.04822960e-01],\n",
       "       [ -1.41871647e+00],\n",
       "       [ -1.10124826e-01],\n",
       "       [ -2.44037859e+00],\n",
       "       [  4.29169269e+00],\n",
       "       [ -3.32431858e-01],\n",
       "       [ -2.45992149e+00],\n",
       "       [ -6.87815527e-01],\n",
       "       [  2.02530011e+00],\n",
       "       [ -9.76701320e-01],\n",
       "       [ -3.18159921e+00],\n",
       "       [  3.56251116e+00],\n",
       "       [  8.42012245e-01],\n",
       "       [ -1.26421217e+00],\n",
       "       [ -2.78305453e+00],\n",
       "       [ -2.81005882e+00],\n",
       "       [  2.22324430e-01],\n",
       "       [ -6.65772865e-01],\n",
       "       [  2.41303988e+00],\n",
       "       [ -4.29550368e+00],\n",
       "       [  3.47333436e+00],\n",
       "       [  1.79880235e+00],\n",
       "       [ -3.63348478e+00],\n",
       "       [  3.58402189e+00],\n",
       "       [ -3.00165875e+00],\n",
       "       [  1.07339922e+00],\n",
       "       [  4.30449837e-01],\n",
       "       [ -3.37675308e+00],\n",
       "       [ -4.94346932e+00],\n",
       "       [  2.71485147e+00],\n",
       "       [  2.64787556e+00],\n",
       "       [ -7.89306476e-01],\n",
       "       [ -4.43186819e+00],\n",
       "       [  8.57469952e-01],\n",
       "       [ -3.25844756e+00],\n",
       "       [  2.28610661e+00],\n",
       "       [  3.42910499e-01],\n",
       "       [ -2.46935712e+00],\n",
       "       [  4.17056748e+00],\n",
       "       [  2.58194530e+00],\n",
       "       [  3.87030732e+00],\n",
       "       [ -4.31201829e+00],\n",
       "       [ -3.16471804e+00],\n",
       "       [  2.37072655e+00],\n",
       "       [  1.96714853e+00],\n",
       "       [  2.76992906e+00],\n",
       "       [  1.90341915e-02],\n",
       "       [ -7.45031720e-01],\n",
       "       [  1.11237131e+00],\n",
       "       [  3.55771891e+00],\n",
       "       [  1.70797109e+00],\n",
       "       [  2.35920447e-01],\n",
       "       [ -2.01184590e+00],\n",
       "       [  2.03969079e+00],\n",
       "       [ -1.18389124e+00],\n",
       "       [  6.76849978e-01],\n",
       "       [  3.87860955e+00],\n",
       "       [  3.42949289e+00],\n",
       "       [  3.98798556e+00],\n",
       "       [  4.39003091e+00],\n",
       "       [  3.15435156e+00],\n",
       "       [ -4.98642171e+00],\n",
       "       [ -4.96909302e+00],\n",
       "       [ -4.12531184e+00],\n",
       "       [ -2.39272649e+00],\n",
       "       [ -4.77201329e+00],\n",
       "       [ -7.59151812e-01],\n",
       "       [ -1.58935031e+00],\n",
       "       [  4.13539333e-01],\n",
       "       [  4.26169083e+00],\n",
       "       [ -2.01500553e+00],\n",
       "       [ -1.61915206e+00],\n",
       "       [  3.59480107e+00],\n",
       "       [ -1.59521689e+00],\n",
       "       [ -3.61879597e+00],\n",
       "       [  7.79895535e-02],\n",
       "       [  3.56656477e+00],\n",
       "       [ -1.15686382e+00],\n",
       "       [  1.95690927e+00],\n",
       "       [  1.27904178e+00],\n",
       "       [ -4.96118456e-01],\n",
       "       [ -2.63820579e-01],\n",
       "       [  4.49706354e+00],\n",
       "       [ -4.16502438e+00],\n",
       "       [ -2.20171080e+00],\n",
       "       [ -5.29926907e-01],\n",
       "       [  8.75712640e-01],\n",
       "       [  3.77634138e+00]])"
      ]
     },
     "execution_count": 4,
     "metadata": {},
     "output_type": "execute_result"
    }
   ],
   "source": []
  },
  {
   "cell_type": "code",
   "execution_count": 2,
   "metadata": {},
   "outputs": [
    {
     "data": {
      "image/png": "[encoded data removed]",
      "text/plain": [
       "<matplotlib.figure.Figure at 0xf6f2632978>"
      ]
     },
     "metadata": {},
     "output_type": "display_data"
    }
   ],
   "source": [
    "data = pd.read_pickle(\"data/basisData.pkl\")\n",
    "X = data['X']\n",
    "y = data['y']\n",
    "\n",
    "lm = LinearRegression()\n",
    "lm.fit(X, y) \n",
    "\n",
    "grid = np.linspace(-5,5,1000)[:,None]\n",
    "grid_pred = lm.predict(grid)\n",
    "plt.plot(grid, grid_pred)\n",
    "plt.plot(X, y, '.')\n",
    "plt.show()"
   ]
  },
  {
   "cell_type": "markdown",
   "metadata": {},
   "source": [
    "The linear model is problematic because the target is a non-linear function of the input.  We can do better than linear regression by using _polynomial features_. We can think of transforming our data into the following matrix $X_{poly}$ where each of its rows contains the values $(X_{i})^j$ for $j=0$ up to some maximum $degree$. E.g., \n",
    "\n",
    "$$\n",
    "X_{poly} = \\left[\\begin{array}{cccc}\n",
    "1 & x_1 & (x_1)^2 & (x_1)^3\\\\\n",
    "1 & x_2 & (x_2)^2 & (x_2)^3\\\\\n",
    "\\vdots\\\\\n",
    "1 & x_n & (x_n)^2 & (x_N)^3\\\\\n",
    "\\end{array}\n",
    "\\right],\n",
    "$$\n",
    "\n",
    "We can then fit a least squares model as if the above was our original data set. You can think of this as \"changing the model by changing the data\" since we are still using `LinearRegression` but making the fit nonlinear by inventing new features. \n",
    "\n",
    "The code below uses polynomial features of degree 3 plots the results."
   ]
  },
  {
   "cell_type": "code",
   "execution_count": 3,
   "metadata": {},
   "outputs": [
    {
     "data": {
      "image/png": "[encoded data removed]",
      "text/plain": [
       "<matplotlib.figure.Figure at 0xf6efa98828>"
      ]
     },
     "metadata": {},
     "output_type": "display_data"
    }
   ],
   "source": [
    "from sklearn.preprocessing import PolynomialFeatures\n",
    "\n",
    "pf = PolynomialFeatures(degree=3)\n",
    "Xpoly = pf.fit_transform(X)\n",
    "lm.fit(Xpoly, y)\n",
    "\n",
    "grid_poly = pf.fit_transform(grid)\n",
    "grid_poly_pred = lm.predict(grid_poly)\n",
    "plt.plot(grid, grid_poly_pred)\n",
    "plt.plot(X, y, '.')\n",
    "plt.show()"
   ]
  },
  {
   "cell_type": "markdown",
   "metadata": {},
   "source": [
    "Your task: Using 10-fold cross validation (again, sklearn's implementation is fine), report the cross-validation score for models with degrees 0 through 40. (You can use any reasonable performance score, like squared error or the built-in `score` function of the `LinearRegression` object, which computes the $R^2$ score; see [here](http://scikit-learn.org/stable/modules/model_evaluation.html) for more info.) How does the degree of the polynomial affect the fundamental trade-off in machine learning? Write a couple sentences interpreting your results."
   ]
  },
  {
   "cell_type": "code",
   "execution_count": 20,
   "metadata": {},
   "outputs": [
    {
     "name": "stdout",
     "output_type": "stream",
     "text": [
      "The polynomial transformation with the smallest cross-validataion error is:  15\n",
      "The cv-error for this transformation is  0.0187587041132\n"
     ]
    }
   ],
   "source": [
    "cv_err_pol = []\n",
    "index_list = []\n",
    "\n",
    "for i in range(1,40):\n",
    "    pf = PolynomialFeatures(degree=i)\n",
    "    Xpoly = pf.fit_transform(X)\n",
    "    avg_cv_error_pol = 1- np.mean(cross_val_score(lm, Xpoly, y, cv = 10))\n",
    "    cv_err_pol.append(avg_cv_error_pol)\n",
    "    index_list.append(i)\n",
    "    \n",
    "print(\"The polynomial transformation with the smallest cross-validataion error is: \", np.argmin(cv_err_pol)+1)\n",
    "print(\"The cv-error for this transformation is \", cv_err_pol[np.argmin(cv_err_pol)])"
   ]
  },
  {
   "cell_type": "code",
   "execution_count": 41,
   "metadata": {},
   "outputs": [
    {
     "data": {
      "text/plain": [
       "<matplotlib.text.Text at 0xe7de0c7780>"
      ]
     },
     "execution_count": 41,
     "metadata": {},
     "output_type": "execute_result"
    },
    {
     "data": {
      "image/png": "[encoded data removed]",
      "text/plain": [
       "<matplotlib.figure.Figure at 0xe7de071da0>"
      ]
     },
     "metadata": {},
     "output_type": "display_data"
    }
   ],
   "source": [
    "plt.plot(index_list, cv_err_pol,\"r\")\n",
    "plt.title('Crossvalidation Error vs. Polynomial Degree')"
   ]
  },
  {
   "cell_type": "markdown",
   "metadata": {},
   "source": [
    "**Interpretation**\n",
    "\n",
    "The above plot indicates that, in this case, the cross-validation error decreases with increasing polynomial degree from 0 to 10 as we are decreasing the models bias and increasing its variance. The reduction in cv-error idicates that the linear model is now able to capture more of the variability in the data. Increasing the polynomial degree beyond 10 does not yield any significant improvement in cross-validation error. Finally, increasing the degree beyond 25 leads to a dramatic increase in cv-error indicating that our model is now modeling noise in the training portion of the data reducing its predictive qualities on the validation portion (high variance, low bias: overfitting) "
   ]
  },
  {
   "cell_type": "markdown",
   "metadata": {},
   "source": [
    "## Exercise 5b: automation with Pipelines\n",
    "rubric={reasoning:2,code:2}\n",
    "\n",
    "Let's say we want to use `GridSearchCV` here, as we did earlier on in the lab. However, there's a problem: the hyperparameter we're changing isn't a parameter of the `LinearRegression` object. We might try to do something like:\n",
    "\n",
    "```\n",
    "pf = PolynomialFeatures(degree=degree)\n",
    "Xpoly = pf.fit_transform(X)\n",
    "\n",
    "GridSearchCV(lm, parameters=???)\n",
    "```\n",
    "\n",
    "Make sure you understand the problem before proceeding. Write a sentence or two in your own words explaining why we can't just use `GridSearchCV` here like we did above.\n",
    "\n"
   ]
  },
  {
   "cell_type": "markdown",
   "metadata": {},
   "source": [
    "**Answer** \n",
    "\n",
    "*We can not use the GridSearchCV function in the same way we did above because the function will attempt to pass the parameters to the lm function. However, in this case we are not iterating over different hyperparameters for a model - we are incrementally increasing the parameter that transforms the features that we pass into the model. We are changing the data, not the hyperparameters*"
   ]
  },
  {
   "cell_type": "markdown",
   "metadata": {},
   "source": [
    "To address the problem, we'll use scikit-learn's [`Pipeline`](http://scikit-learn.org/stable/modules/generated/sklearn.pipeline.Pipeline.html). The idea is to string together the feature transformation and the regression into a single pipeline. We can then pass that whole pipeline object into `GridSearchCV` and specify whatever hyperparameters we want to optimize. In fact, we can even specify a combination of parameters from different steps of the pipeline (e.g. the degree of the polynomial and a parameter of the linear regression).\n",
    "\n",
    "Your task: use a `Pipeline` with `GridSearchCV` to automatically find the best polynomial degree. Compare your answer to what you got above in 5a.  \n",
    "\n",
    "PS: another use of Pipelines is when you do a lot of preprocessing to the data, like subtracting the mean value or other transformations. It's critical that one does the same test of transformations to the test data as the training data. A Pipeline is a good way of keeping track of all the transformations you did. Then when you run the Pipeline on the test example, all the same procedures are followed. There are some nice Pipeline examples in the scikit-learn documentation, like [here](http://scikit-learn.org/stable/tutorial/statistical_inference/putting_together.html) an [here](http://scikit-learn.org/stable/auto_examples/model_selection/grid_search_text_feature_extraction.html); we haven't yet covered all the methods in those examples, but we will cover all of it before the end of the program."
   ]
  },
  {
   "cell_type": "code",
   "execution_count": 22,
   "metadata": {},
   "outputs": [
    {
     "name": "stdout",
     "output_type": "stream",
     "text": [
      "The best value for Degree for transformation is:  {'pf__degree': 22}\n",
      "The cv-error is:  0.0180026217741\n"
     ]
    }
   ],
   "source": [
    "from sklearn.pipeline import Pipeline\n",
    "\n",
    "degrees = range(40)\n",
    "pf = PolynomialFeatures()\n",
    "Xpoly = pf.fit_transform(X)\n",
    "lm = LinearRegression()\n",
    "\n",
    "pipe = Pipeline(steps = [('pf', pf), ('lm', lm)])\n",
    "\n",
    "\n",
    "pipe_cv = GridSearchCV(estimator = pipe, \n",
    "                      param_grid = {'pf__degree':degrees})\n",
    "\n",
    "pipe_cv.fit(X,y)\n",
    "\n",
    "pipe_cv.best_params_\n",
    "pipe_cv.best_score_\n",
    "print(\"The best value for Degree for transformation is: \", pipe_cv.best_params_)\n",
    "print(\"The cv-error is: \", 1-pipe_cv.best_score_)"
   ]
  },
  {
   "cell_type": "markdown",
   "metadata": {},
   "source": [
    "* Observation  \n",
    "\n",
    "Using GridSearch across 50 degrees leads to a different optimal feature transformation. The GridSearch suggests a degree of 22 while the above approach suggests a polynomial of 15. the cv-error is very similar - but slightly lower for GridSearch"
   ]
  },
  {
   "cell_type": "markdown",
   "metadata": {},
   "source": [
    "## Exercise 6a: linear regression in Python using `sklearn` and `statsmodels` vs R\n",
    "rubric={reasoning:3,code:3}\n",
    "\n",
    "For this exercise, you will perform a linear regression on the [cars dataset](../../data/cars.csv) in Python and R. You will use `dist` as your response variable/target, and `speed` as the explanatory variable/predictor. You can find a description of the dataset [here](https://vincentarelbundock.github.io/Rdatasets/doc/datasets/cars.html). For each, you will also split the dataset into a training and test set and assess the training and validation loss.\n",
    "\n",
    "The aim is to become familar with the inputs and outputs of the various functions to perform linear regression in Python and R, as well as recognize the strengths and limitations of each of the functions and their appropriate uses cases.\n",
    "\n",
    "Perform the regression with the following set of tools:\n",
    "\n",
    "1. Python: scikit-learn's [`LinearRegression`](http://scikit-learn.org/stable/modules/generated/sklearn.linear_model.LinearRegression.html)\n",
    "2. Python: statsmodels [`sm.OLS`](http://statsmodels.sourceforge.net/devel/examples/notebooks/generated/ols.html)\n",
    "3. R: `lm` (*note: for this part of the exercise, either use `rpy2` to embed your R code in this notebook, or link to your rendered R code in another file, e.g., rendered `.Rmd` or Jupyter notebook running an R kernel*)\n",
    "\n",
    "Comment on the inputs and output of the 3 linear regression functions. In R, you can get all sorts of good stuff from the output of `lm`. What / how much of that can you get from `sklearn`'s `LinearRegression`? From `statsmodels`'s `sm.OLS`? Describe a case when you might use each of these functions."
   ]
  },
  {
   "cell_type": "markdown",
   "metadata": {},
   "source": [
    "#### Answer"
   ]
  },
  {
   "cell_type": "code",
   "execution_count": 331,
   "metadata": {},
   "outputs": [
    {
     "name": "stdout",
     "output_type": "stream",
     "text": [
      "The training R-squared of scikit-learn's LinearRegression is  0.69156  the validation R-squared validation score is  0.55483\n"
     ]
    }
   ],
   "source": [
    "#1.scikit-learn's LinearRegression\n",
    "\n",
    "#reading in data \n",
    "cars = pd.read_csv(\"https://raw.github.ubc.ca/ubc-mds-2017/DSCI_573_feat-model-select_students/master/data/cars.csv?token=AAADk5_vMO99Cj8fxIhmbSAWwvmCj-jAks5aXsP7wA%3D%3D\")\n",
    "\n",
    "#splitting data into train in validation parts\n",
    "Xtrain, Xtest, ytrain, ytest = train_test_split(cars[\"speed\"], cars[\"dist\"], test_size=0.30, random_state=1)\n",
    "\n",
    "lm = LinearRegression(fit_intercept = True)\n",
    "lm.fit(Xtrain[:, None],ytrain)\n",
    "\n",
    "train_score = lm.score(Xtrain[:, None], ytrain)\n",
    "validation_score = lm.score(Xtest[:,None],ytest)\n",
    "\n",
    "print(\"The training R-squared of scikit-learn's LinearRegression is \", round(train_score,5), \" the validation R-squared validation score is \", round(validation_score,5))\n"
   ]
  },
  {
   "cell_type": "code",
   "execution_count": 332,
   "metadata": {},
   "outputs": [
    {
     "name": "stdout",
     "output_type": "stream",
     "text": [
      "The coefficient is  3.91046 the intercept is  -16.3733641494\n",
      "The r-squared value is  0.55483\n",
      "The predicted response for an x-value of 5 is 42.28359\n"
     ]
    }
   ],
   "source": [
    "#extracting information on coefficients and fit from model \n",
    "from sklearn.metrics import mean_squared_error, r2_score\n",
    "\n",
    "#coefficients\n",
    "coef = lm.coef_\n",
    "intercept = lm.intercept_\n",
    "\n",
    "print(\"The slopw coefficient is \", round(coef[0],5), \"the intercept is \", lm.intercept_)\n",
    "\n",
    "#r-squared \n",
    "y_pred = lm.predict(Xtest[:, None])\n",
    "r_squared = r2_score(ytest, y_pred)\n",
    "\n",
    "print(\"The r-squared value is \", round(r_squared,5))\n",
    "                     \n",
    "sample_pred = lm.predict(15)\n",
    "\n",
    "print(\"The predicted response for an x-value of 5 is\", round(sample_pred[0], 5))"
   ]
  },
  {
   "cell_type": "markdown",
   "metadata": {
    "collapsed": true
   },
   "source": [
    "**Comments:**   \n",
    "\n",
    "After fitting the model on the trainign data,it is very easy to make predictions using the predict funtion of `predict()` scikit-learn's LinearRegression package. Extracting information on coefficients and goodness of fit of the model is fairly complicated and requires additional functions. Further, I could not find a way to simply print out a model summary or to access the residuals for model diagnostics. Although these functions may be available, **I would likely only use scikit-learn's LinearRegression if I wanted to fit a model solely for the purpose of making predictions.**\n"
   ]
  },
  {
   "cell_type": "code",
   "execution_count": 93,
   "metadata": {},
   "outputs": [
    {
     "data": {
      "text/html": [
       "<table class=\"simpletable\">\n",
       "<caption>OLS Regression Results</caption>\n",
       "<tr>\n",
       "  <th>Dep. Variable:</th>          <td>dist</td>       <th>  R-squared:         </th> <td>   0.692</td>\n",
       "</tr>\n",
       "<tr>\n",
       "  <th>Model:</th>                   <td>OLS</td>       <th>  Adj. R-squared:    </th> <td>   0.682</td>\n",
       "</tr>\n",
       "<tr>\n",
       "  <th>Method:</th>             <td>Least Squares</td>  <th>  F-statistic:       </th> <td>   73.99</td>\n",
       "</tr>\n",
       "<tr>\n",
       "  <th>Date:</th>             <td>Fri, 12 Jan 2018</td> <th>  Prob (F-statistic):</th> <td>6.10e-10</td>\n",
       "</tr>\n",
       "<tr>\n",
       "  <th>Time:</th>                 <td>21:15:18</td>     <th>  Log-Likelihood:    </th> <td> -141.06</td>\n",
       "</tr>\n",
       "<tr>\n",
       "  <th>No. Observations:</th>      <td>    35</td>      <th>  AIC:               </th> <td>   286.1</td>\n",
       "</tr>\n",
       "<tr>\n",
       "  <th>Df Residuals:</th>          <td>    33</td>      <th>  BIC:               </th> <td>   289.2</td>\n",
       "</tr>\n",
       "<tr>\n",
       "  <th>Df Model:</th>              <td>     1</td>      <th>                     </th>     <td> </td>   \n",
       "</tr>\n",
       "<tr>\n",
       "  <th>Covariance Type:</th>      <td>nonrobust</td>    <th>                     </th>     <td> </td>   \n",
       "</tr>\n",
       "</table>\n",
       "<table class=\"simpletable\">\n",
       "<tr>\n",
       "    <td></td>       <th>coef</th>     <th>std err</th>      <th>t</th>      <th>P>|t|</th>  <th>[0.025</th>    <th>0.975]</th>  \n",
       "</tr>\n",
       "<tr>\n",
       "  <th>const</th> <td>  -16.3734</td> <td>    7.072</td> <td>   -2.315</td> <td> 0.027</td> <td>  -30.762</td> <td>   -1.984</td>\n",
       "</tr>\n",
       "<tr>\n",
       "  <th>speed</th> <td>    3.9105</td> <td>    0.455</td> <td>    8.602</td> <td> 0.000</td> <td>    2.986</td> <td>    4.835</td>\n",
       "</tr>\n",
       "</table>\n",
       "<table class=\"simpletable\">\n",
       "<tr>\n",
       "  <th>Omnibus:</th>       <td> 7.883</td> <th>  Durbin-Watson:     </th> <td>   2.023</td>\n",
       "</tr>\n",
       "<tr>\n",
       "  <th>Prob(Omnibus):</th> <td> 0.019</td> <th>  Jarque-Bera (JB):  </th> <td>   6.427</td>\n",
       "</tr>\n",
       "<tr>\n",
       "  <th>Skew:</th>          <td> 0.902</td> <th>  Prob(JB):          </th> <td>  0.0402</td>\n",
       "</tr>\n",
       "<tr>\n",
       "  <th>Kurtosis:</th>      <td> 4.073</td> <th>  Cond. No.          </th> <td>    46.6</td>\n",
       "</tr>\n",
       "</table>"
      ],
      "text/plain": [
       "<class 'statsmodels.iolib.summary.Summary'>\n",
       "\"\"\"\n",
       "                            OLS Regression Results                            \n",
       "==============================================================================\n",
       "Dep. Variable:                   dist   R-squared:                       0.692\n",
       "Model:                            OLS   Adj. R-squared:                  0.682\n",
       "Method:                 Least Squares   F-statistic:                     73.99\n",
       "Date:                Fri, 12 Jan 2018   Prob (F-statistic):           6.10e-10\n",
       "Time:                        21:15:18   Log-Likelihood:                -141.06\n",
       "No. Observations:                  35   AIC:                             286.1\n",
       "Df Residuals:                      33   BIC:                             289.2\n",
       "Df Model:                           1                                         \n",
       "Covariance Type:            nonrobust                                         \n",
       "==============================================================================\n",
       "                 coef    std err          t      P>|t|      [0.025      0.975]\n",
       "------------------------------------------------------------------------------\n",
       "const        -16.3734      7.072     -2.315      0.027     -30.762      -1.984\n",
       "speed          3.9105      0.455      8.602      0.000       2.986       4.835\n",
       "==============================================================================\n",
       "Omnibus:                        7.883   Durbin-Watson:                   2.023\n",
       "Prob(Omnibus):                  0.019   Jarque-Bera (JB):                6.427\n",
       "Skew:                           0.902   Prob(JB):                       0.0402\n",
       "Kurtosis:                       4.073   Cond. No.                         46.6\n",
       "==============================================================================\n",
       "\n",
       "Warnings:\n",
       "[1] Standard Errors assume that the covariance matrix of the errors is correctly specified.\n",
       "\"\"\""
      ]
     },
     "execution_count": 93,
     "metadata": {},
     "output_type": "execute_result"
    }
   ],
   "source": [
    "#2. statsmodels sm.OLS\n",
    "import statsmodels.api as sm\n",
    "\n",
    "Xtrain = Xtrain\n",
    "\n",
    "lm_ols = sm.OLS(ytrain,sm.add_constant(Xtrain))\n",
    "ols_results = lm_ols.fit()\n",
    "\n",
    "ols_results.summary()"
   ]
  },
  {
   "cell_type": "code",
   "execution_count": 95,
   "metadata": {},
   "outputs": [
    {
     "data": {
      "text/plain": [
       "0.68221813466485015"
      ]
     },
     "execution_count": 95,
     "metadata": {},
     "output_type": "execute_result"
    }
   ],
   "source": [
    "ols_results.rsquared_adj"
   ]
  },
  {
   "cell_type": "markdown",
   "metadata": {},
   "source": [
    "**Comments:**\n",
    "\n",
    "To attain comparable results to the scikit-learn's linear model and to match our theoretical knowledge of linear models with intercept, we had to **explicitly add an intercept** to the above model. After doing so, `statsmodels sm.OLS` allows us to view a summary of the regression results in a table using the `.summary` function. **We observe, that all parameters and values (including training R-squared) are equivalent to the previous model.**\n",
    "\n",
    "In addition to the confusion about the explicitly added intercept, I could again not find any way to extract the residuals from the model for the purpose of model diagnostics. Therefore, I would use `statsmodels sm.OLS` if I wanted to fit an interpretable linear model to analyze the relationship between explanatory and response variabels in Python. "
   ]
  },
  {
   "cell_type": "code",
   "execution_count": 2,
   "metadata": {
    "collapsed": true
   },
   "outputs": [],
   "source": [
    "#3.lm() function in R   \n",
    "\n",
    "\n",
    "#Call:\n",
    "#lm(formula = car_train$dist ~ car_train$speed)\n",
    "\n",
    "#Residuals:\n",
    "#    Min      1Q  Median      3Q     Max \n",
    "#-21.508  -8.461  -1.479   3.456  42.521 \n",
    "\n",
    "#Coefficients:\n",
    "#                Estimate Std. Error t value Pr(>|t|)    \n",
    "#(Intercept)     -18.6051     7.4567  -2.495   0.0175 *  \n",
    "#car_train$speed   4.0060     0.4641   8.632 3.43e-10 ***\n",
    "#---\n",
    "#Signif. codes:  0 ‘***’ 0.001 ‘**’ 0.01 ‘*’ 0.05 ‘.’ 0.1 ‘ ’ 1\n",
    "#\n",
    "#Residual standard error: 13.64 on 35 degrees of freedom\n",
    "#Multiple R-squared:  0.6804,\tAdjusted R-squared:  0.6713 \n",
    "#F-statistic: 74.52 on 1 and 35 DF,  p-value: 3.43e-10\n",
    "\n"
   ]
  },
  {
   "cell_type": "markdown",
   "metadata": {},
   "source": [
    "#### Comments:\n",
    "\n",
    "The `lm()` function in R conveniently displays all information on the parameters and their significance as well as the goodness of fit (R-squared) of the model and the distribution of the residuals. To access all sorts of values from the model such as coefficients, predictions and residuals I can use the `$` notation. For example, I can access the the predictions made by the model using `cars_lm$fitted.values`. A major downside of using R was that I could not find a function to split my data into train and test set - for the same reason the above the coefficients and model diagnostics are slightly different in the above R output (I did not have the time to implement this manually).\n",
    "\n",
    "Since I am lot more experience using the the `lm()` function in R as opposed to the previous methods, I would use this function over `statsmodels sm.OLS` if I needed to create an easily interpretable model for the purpose of analyzing the relationshipt between explanatory and response variable.  \n",
    "\n",
    "You can find my R code in this [R markdown document](exercise_6.Rmd). \n",
    "\n",
    "*Note:* Coefficients and model statistics are slightly different because I fit this regression model based on another train/test split as the previous ones - split generated in Rmd document. "
   ]
  },
  {
   "cell_type": "markdown",
   "metadata": {},
   "source": [
    "## (optional) 6b: comparing tools with logistic regression\n",
    "\n",
    "rubric={reasoning:1}\n",
    "\n",
    "Repeat exercise 6a, but this time for logistic regression rather than linear regression. We'll use a [dataset about getting into grad school](http://www.ats.ucla.edu/stat/data/binary.csv) with `admit` as the response variable/target and the remaining 3 features as the explanatory variables/predictors. \n",
    "\n",
    "Perform the logistic regression with the following set of tools:\n",
    "\n",
    "1. Python: scikit-learn's [`LogisticRegression`](http://scikit-learn.org/stable/modules/generated/sklearn.linear_model.LogisticRegression.html) (*note: set `C=1e6`; this disables regularization and will be explained later in the course*) \n",
    "2. Python: statsmodels [`sm.Logit`](http://www.statsmodels.org/dev/generated/statsmodels.discrete.discrete_model.Logit.html)\n",
    "3. R: `glm` (*note: for this part of the exercise, either use `rpy2` to embed your R code in this notebook, or link to your rendered R code in another file, e.g., rendered `.Rmd` or Jupyter notebook running an R kernel*)\n",
    "\n",
    "Comment on the inputs and output of the 3 logistic regression functions. Describe a case when you might use each of these functions."
   ]
  },
  {
   "cell_type": "markdown",
   "metadata": {},
   "source": [
    "## Exercise 7: Feature selection\n",
    "rubric={reasoning:4}\n",
    "\n",
    "In the `primeData` dataset, most of the variables are not relevant to the prediction. In particular, only the variables $j$, where $j$ is a prime number, are relevant.\n",
    "\n",
    "The code below loads the data, fits a linear regression model, and computes the squared error on the training and validation sets. As you can see, the validation error is huge compared to the (tiny) training error. This model is clearly over-fitting."
   ]
  },
  {
   "cell_type": "code",
   "execution_count": 4,
   "metadata": {},
   "outputs": [
    {
     "name": "stdout",
     "output_type": "stream",
     "text": [
      "Number of training examples: 250\n",
      "Number of features: 300\n",
      "\n",
      "Training error:   5.48e-28\n",
      "Validation error: 27.4\n"
     ]
    }
   ],
   "source": [
    "data = pd.read_pickle(\"data/primeData.pkl\")    \n",
    "    \n",
    "Xtrain = data['X']\n",
    "ytrain = data['y']\n",
    "Xvalidate = data['Xvalidate']\n",
    "yvalidate = data['yvalidate']\n",
    "    \n",
    "n = Xtrain.shape[0]\n",
    "d = Xtrain.shape[1]\n",
    "t = Xvalidate.shape[0]\n",
    "\n",
    "print(\"Number of training examples:\", n)\n",
    "print(\"Number of features:\", d)\n",
    "print()\n",
    "\n",
    "def fit_and_report(model, X, y, Xv, yv):\n",
    "    model.fit(X,y)\n",
    "    mean_squared_err = lambda y, yhat: np.mean((y-yhat)**2)\n",
    "    errors = [mean_squared_err(y, model.predict(X)), mean_squared_err(yv, model.predict(Xv))]\n",
    "    return errors\n",
    "    \n",
    "errs = fit_and_report(LinearRegression(), Xtrain, ytrain, Xvalidate, yvalidate)\n",
    "\n",
    "print(\"Training error:   %.3g\" % errs[0])\n",
    "print(\"Validation error: %.3g\" % errs[1])"
   ]
  },
  {
   "cell_type": "markdown",
   "metadata": {},
   "source": [
    "The code below performs feature selection using scikit-learn's implementation of backward stepwise selection called [`RFE`](http://scikit-learn.org/stable/modules/generated/sklearn.feature_selection.RFE.html). As you can see, the model overfits much less. "
   ]
  },
  {
   "cell_type": "code",
   "execution_count": 98,
   "metadata": {},
   "outputs": [
    {
     "name": "stdout",
     "output_type": "stream",
     "text": [
      "Training error:   0.595\n",
      "Validation error: 9.02\n"
     ]
    }
   ],
   "source": [
    "from sklearn.feature_selection import RFE\n",
    "from sklearn.linear_model import Ridge # we'll talk about this in the second part of the course; don't worry for now\n",
    "\n",
    "rfe = RFE(estimator = Ridge(), n_features_to_select = 100)\n",
    "rfe.fit(Xtrain, ytrain)\n",
    "Xtrain_sel = Xtrain[:, rfe.support_]\n",
    "Xvalidate_sel = Xvalidate[:, rfe.support_]\n",
    "\n",
    "errs = fit_and_report(LinearRegression(), Xtrain_sel, ytrain, Xvalidate_sel, yvalidate)\n",
    "\n",
    "print(\"Training error:   %.3g\" % errs[0])\n",
    "print(\"Validation error: %.3g\" % errs[1])"
   ]
  },
  {
   "cell_type": "markdown",
   "metadata": {},
   "source": [
    "Plot the validation loss for different values of the number of features ($k$) for RFE. Discuss what you notice.\n",
    "Also plot one other model quality metric (*e.g.,* Cp, AIC, BIC, or adjusted $R^2$) vs. $k$ and discuss. "
   ]
  },
  {
   "cell_type": "markdown",
   "metadata": {},
   "source": [
    "#### Answer\n",
    "\n",
    "**Note**: In the below loop, I calculated the adjusted r-squared using the following formula: \n",
    "\n",
    "$$ 1 - \\frac{(1-R^2)(N-1)}{N-p-1}$$"
   ]
  },
  {
   "cell_type": "code",
   "execution_count": 291,
   "metadata": {
    "collapsed": true
   },
   "outputs": [],
   "source": [
    "#plotting validation loss and adjusted R-squared \n",
    "val_error_list = []\n",
    "adj_r_squared_list = []\n",
    "r_squared_list = []\n",
    "index_list = []\n",
    "\n",
    "for i in range(1,300,10):\n",
    "    rfe = RFE(estimator = Ridge(), n_features_to_select = i)\n",
    "    rfe.fit(Xtrain, ytrain)\n",
    "    Xtrain_sel = Xtrain[:, rfe.support_]\n",
    "    Xvalidate_sel = Xvalidate[:, rfe.support_]\n",
    "    \n",
    "    #calculating ajdusted r-squared\n",
    "    lm_for_r2 = LinearRegression().fit(Xtrain_sel, ytrain)\n",
    "    r_squared = lm_for_r2.score(Xtrain_sel, ytrain)\n",
    "    adj_r_squared = 1-(1-r_squared**2)*(n-1)/(n-i-1)\n",
    "    \n",
    "    #calculating training and validation error\n",
    "    errs = fit_and_report(LinearRegression(), Xtrain_sel, ytrain, Xvalidate_sel, yvalidate)\n",
    "    val_error = errs[1]\n",
    "    \n",
    "    \n",
    "    val_error_list.append(val_error)\n",
    "    index_list.append(i)\n",
    "    adj_r_squared_list.append(adj_r_squared)\n",
    "    r_squared_list.append(r_squared)\n"
   ]
  },
  {
   "cell_type": "code",
   "execution_count": 106,
   "metadata": {},
   "outputs": [
    {
     "data": {
      "text/plain": [
       "<matplotlib.text.Text at 0x30b890ea20>"
      ]
     },
     "execution_count": 106,
     "metadata": {},
     "output_type": "execute_result"
    },
    {
     "data": {
      "image/png": "[encoded data removed]",
      "text/plain": [
       "<matplotlib.figure.Figure at 0x30b88e7240>"
      ]
     },
     "metadata": {},
     "output_type": "display_data"
    }
   ],
   "source": [
    "plt.plot(index_list, val_error_list,\"r\")\n",
    "plt.title('Validation Loss')"
   ]
  },
  {
   "cell_type": "code",
   "execution_count": 108,
   "metadata": {},
   "outputs": [
    {
     "data": {
      "text/plain": [
       "<matplotlib.text.Text at 0x30b8a2feb8>"
      ]
     },
     "execution_count": 108,
     "metadata": {},
     "output_type": "execute_result"
    },
    {
     "data": {
      "image/png": "[encoded data removed]",
      "text/plain": [
       "<matplotlib.figure.Figure at 0x30b89f2320>"
      ]
     },
     "metadata": {},
     "output_type": "display_data"
    }
   ],
   "source": [
    "plt.plot(index_list, adj_r_squared_list,\"r\", index_list, r_squared_list)\n",
    "plt.title('Adjusted R-squared (red) vs. R-squared (blue)')"
   ]
  },
  {
   "cell_type": "markdown",
   "metadata": {},
   "source": [
    "**Observation** \n",
    "\n",
    "As the number of features remaining in the model increases from 0 to 50, we can see that the validation error decreases significantly indicating better predictive qualities of our model on the validation data. Within the same range of $k$ ,the adjusted r-squared (red) and r-squared (blue) in the second plot indicates that every new feature included increases the proportion of explained error in our model significantly. \n",
    "\n",
    "When increasing the features included beyond 50, the validation error increases significantly indicating overfitting and reduced predictive qualities. The second plot supports this observation showing a almost no improvement of R-squared adn adjusted R-squared. \n",
    "\n",
    "Looking at the second plot, further shows that the adjusted R-squared value will always suggest that a larger model (with more features) explains more variation in the data than a smaller model. Although the adjusted R-value adds a penalty for high numbers of features, both measures suggest that larger, potentially overfitting models, are superior."
   ]
  },
  {
   "cell_type": "markdown",
   "metadata": {},
   "source": [
    "## Exercise 8: forward selection implementation\n",
    "rubric={reasoning:2,code:8}\n",
    "\n",
    "Implement the forward selection algorithm. This algorithm works iteratively. At each step, add in the feature that most reduces the validation error. Stop adding features once the valiation error stops decreasing. \n",
    "\n",
    "Try out your method on the data set from exercise 7, plus one other data set of your choosing, and discuss the results. What is the time complexity of your method, assuming you have $n$ training example, $D$ features in total, and you want to keep only $d$ features?\n",
    "\n",
    "You are welcome to hard-code in a particular choice of model, like LinearRegression. Optionally, abstract away the model so that your forward selection function can be called with any model so long as it implements `fit` and `predict` and `score` like most sklearn models."
   ]
  },
  {
   "cell_type": "code",
   "execution_count": 67,
   "metadata": {
    "collapsed": true,
    "scrolled": true
   },
   "outputs": [],
   "source": [
    "#aktuelle version\n",
    "\n",
    "Xtrain = data['X']\n",
    "ytrain = data['y']\n",
    "Xvalidate = data['Xvalidate']\n",
    "yvalidate = data['yvalidate']\n",
    "    \n",
    "n = Xtrain.shape[0]\n",
    "d = Xtrain.shape[1]\n",
    "t = Xvalidate.shape[0]\n",
    "\n",
    "\n",
    "val_err_model = []\n",
    "model_features = []\n",
    "no_improvement = False\n",
    "\n",
    "\n",
    "while no_improvement == False:\n",
    "    #skipping over indices that are already included in model_features\n",
    "    for i in range(1,Xtrain.shape[1]):\n",
    "        if i in model_features:\n",
    "            continue\n",
    "            \n",
    "        #iterating over features to add to model \n",
    "        model_features.append(i)\n",
    "        \n",
    "        #fitting model on selected features \n",
    "        Xtrain_sel = Xtrain[:,model_features]\n",
    "        Xvalidate_sel = Xvalidate[:,model_features]\n",
    "        lm = LinearRegression().fit(Xtrain_sel, ytrain)\n",
    "        \n",
    "        #calculating and recording validation error for all new models\n",
    "        val_err = 1-lm.score(Xvalidate_sel, yvalidate)\n",
    "        val_err_feat.append(val_err)\n",
    "        model_features = model_features[:-1]   \n",
    "\n",
    "    #finding min validation error\n",
    "    best_feat_ind = np.argmin(val_err_feat)\n",
    "    model_features.append(best_feat_ind)\n",
    "    val_err_feat = []\n",
    "    \n",
    "    #keeping track of model validation error to know when to stop\n",
    "    Xtrain_sel = Xtrain[:,model_features]\n",
    "    Xvalidate_sel = Xvalidate[:,model_features]\n",
    "    lm_current = LinearRegression().fit(Xtrain_sel,ytrain)\n",
    "    val_err_model_current = 1-lm_current.score(Xvalidate_sel,yvalidate)\n",
    "    val_err_model.append(val_err_model_current)\n",
    "    \n",
    "                                                                                          \n",
    "    if len(val_err_model)>1:\n",
    "        if val_err_model[-1]>val_err_model[-2]:\n",
    "            no_improvement = True"
   ]
  },
  {
   "cell_type": "code",
   "execution_count": 70,
   "metadata": {},
   "outputs": [
    {
     "name": "stdout",
     "output_type": "stream",
     "text": [
      "Using the above algorithm with a hard stopping rule leads to only two features in the model: [274, 273]\n"
     ]
    }
   ],
   "source": [
    "print(\"Using the above algorithm with a hard stopping rule leads to only two features in the model:\", model_features)"
   ]
  },
  {
   "cell_type": "markdown",
   "metadata": {},
   "source": [
    "**Note** \n",
    "\n",
    "The above result seems unrealistic and does not match the ideal feature number in the previous backward selection at all. I assume that I made an error in the algorithm - I could not find it. \n",
    "\n",
    "**Complexity**\n",
    "\n",
    "Although the above algorithm yields wrong results, a forward selection algorithm will likely follow a similar pattern and therefore have the same time complexity: \n",
    "\n",
    "$O(d^2)$   \n",
    "\n",
    "since, in the worst case, we will have to loop over all $d$ features $d$ times (if all features improve the validation error of the model $O(d^2)$). Note: this is ignoring the complexity of fitting a linear model which is $O(c^2n)$ according to this [link](https://math.stackexchange.com/questions/84495/computational-complexity-of-least-square-regression-operation) and the complexity of calculating the validation error for each model which is $O(n)$"
   ]
  },
  {
   "cell_type": "markdown",
   "metadata": {
    "collapsed": true
   },
   "source": [
    "## (optional) Exercise 9: Overfitting on the validation set\n",
    "rubric={reasoning:1}\n",
    "\n",
    "In this exercise we'll explore the phenomenon knows as overfitting on the validation set. The idea is that if you use the validation set too many times, say when trying out different hyperparameter values, you may end up getting good performance \"by chance\" sometimes, and therefore pick a poor model (this is sort of like the multiple testing problem in statistics). A couple ways to avoid this pitfall are:\n",
    "\n",
    "1. Don't use the validation set many times\n",
    "2. Use a larger validation set and/or cross-validation\n",
    "\n",
    "Both of these are hard to achieve. We want to use the validation set a bunch of times to pick good hyperparameters, so (1) is tricky. And (2) is also unfortunate, because the more data we use for validation, the less we use for training, and a model trained on a tiny training set may not be representative of a model trained on more data. Cross-validation helps somewhat but it has a different problem: it's slow. For example, if each round of training takes one minute (which is easily possible even for a modestly sized data set), and we want to try out 100 hyperparameter values, the whole thing takes 100 minutes... not great, but not terrible. But now if we decide to do 10-fold cross validation, suddenly we're looking at 1000 minutes, which is pretty much a whole day. And if training takes 10 minutes, now we're looking at the difference between a day and a week. That's a big difference!\n",
    "\n",
    "In this exercise, you are given some code below that attempts to demonstrate overfitting on the validation set, which uses a [RandomForestRegressor](http://scikit-learn.org/stable/modules/generated/sklearn.ensemble.RandomForestRegressor.html) on the [boston house prices dataset](http://scikit-learn.org/stable/modules/generated/sklearn.datasets.load_boston.html) built in to sklearn. We use a very tiny validation set to emphasize this problem. Another way of emphasizing it would be to try out even more hyperparameter configurations, but this would take a very long time and isn't appropriate for a lab. It does happen in the wild though: people sometimes spend days or weeks trying out different hyperparameter configurations (sometimes manually, sometimes automated).\n",
    "\n",
    "Note that in the code below we're using 10-fold cross validation as a ground truth score for deciding which model is really better. We could also consider holding out a second validation set for this purpose. This, again, is a difficult issue...\n",
    "\n",
    "Your tasks: \n",
    "\n",
    "- Explain what's happening in the code below. Why are the results worrying? (You may have to run the code a few times in order to get it to behave sub-optimally.) \n",
    "- How many times is the tiny validation set being hit by GridSearchCV?\n",
    "- The size of the validation set is currently set to very few examples. What do you expect would happen if this number is increased or decreaesd? \n",
    "- What are the sources of randomness in the experiment below? Are we accounting for them properly? (I went with GridSearchCV instead of RandomizedSearchCV to help with this a little bit.)\n",
    "- Brainstorm some ways we might go about dealing with these issues. How would you actually approach this problem, for the data set below? Go ahead and try to come up with what you think is the best model. Describe your thought process and the challenges. How badly do you need more data?"
   ]
  },
  {
   "cell_type": "code",
   "execution_count": 7,
   "metadata": {},
   "outputs": [
    {
     "name": "stdout",
     "output_type": "stream",
     "text": [
      "{'bootstrap': False, 'max_depth': 2, 'max_features': 7, 'min_samples_leaf': 1, 'min_samples_split': 2, 'n_estimators': 5}\n",
      "0.989430899037\n"
     ]
    }
   ],
   "source": [
    "from sklearn.model_selection import ShuffleSplit\n",
    "from sklearn.ensemble import RandomForestRegressor\n",
    "\n",
    "boston = datasets.load_boston()\n",
    "X = boston.data\n",
    "y = boston.target\n",
    "\n",
    "split = ShuffleSplit(n_splits=1, test_size=2) # very small validation set, no cross-validation (just 1 split)\n",
    "\n",
    "parameters = {\"n_estimators\"     : np.arange(2,20,3),\n",
    "              \"max_depth\"        : np.arange(2,10,3),\n",
    "              \"min_samples_split\": np.arange(2,10,3),\n",
    "              \"min_samples_leaf\" : np.arange(1,10,3),\n",
    "              \"max_features\"     : np.arange(1,10,3),\n",
    "              \"bootstrap\"        : [True, False]}\n",
    "\n",
    "search = GridSearchCV(RandomForestRegressor(), parameters, cv=split)\n",
    "search.fit(X, y) # perform the search\n",
    "\n",
    "print(search.best_params_)\n",
    "print(search.best_score_)"
   ]
  },
  {
   "cell_type": "code",
   "execution_count": 8,
   "metadata": {},
   "outputs": [
    {
     "name": "stdout",
     "output_type": "stream",
     "text": [
      "10-fold CV score of best fit: 0.185542236941\n",
      "10-fold CV score of baseline: 0.441831254889\n"
     ]
    }
   ],
   "source": [
    "best_classifier = search.best_estimator_\n",
    "print(\"10-fold CV score of best fit:\", np.mean(cross_val_score(best_classifier, X, y, cv=10))) \n",
    "# above: don't want too many folds since the data set is so small\n",
    "\n",
    "baseline = RandomForestRegressor() # this should be reasonable but unlikely to be the best possible\n",
    "print(\"10-fold CV score of baseline:\", np.mean(cross_val_score(baseline, X, y, cv=10)))"
   ]
  }
 ],
 "metadata": {
  "anaconda-cloud": {},
  "kernelspec": {
   "display_name": "Python 3",
   "language": "python",
   "name": "python3"
  },
  "language_info": {
   "codemirror_mode": {
    "name": "ipython",
    "version": 3
   },
   "file_extension": ".py",
   "mimetype": "text/x-python",
   "name": "python",
   "nbconvert_exporter": "python",
   "pygments_lexer": "ipython3",
   "version": "3.6.1"
  },
  "name": "_merged"
 },
 "nbformat": 4,
 "nbformat_minor": 1
}
