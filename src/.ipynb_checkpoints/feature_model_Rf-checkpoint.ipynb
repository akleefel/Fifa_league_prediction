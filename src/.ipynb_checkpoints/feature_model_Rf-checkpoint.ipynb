{
 "cells": [
  {
   "cell_type": "code",
   "execution_count": 39,
   "metadata": {
    "collapsed": true
   },
   "outputs": [],
   "source": [
    "import os\n",
    "import numpy as np\n",
    "import pandas as pd\n",
    "import matplotlib.pyplot as plt\n",
    "\n",
    "\n",
    "#classifiers \n",
    "from sklearn.neighbors import KNeighborsClassifier\n",
    "from sklearn.ensemble import RandomForestClassifier\n",
    "from sklearn.tree import DecisionTreeClassifier\n",
    "from sklearn.svm import SVC\n",
    "\n",
    "\n",
    "#other\n",
    "from sklearn.feature_selection import SelectFromModel\n",
    "from sklearn.model_selection import train_test_split, GridSearchCV\n",
    "from sklearn.feature_selection import RFE\n",
    "from sklearn.feature_selection import SelectKBest\n",
    "from sklearn.feature_selection import chi2\n",
    "\n",
    "%matplotlib inline\n"
   ]
  },
  {
   "cell_type": "code",
   "execution_count": 40,
   "metadata": {},
   "outputs": [
    {
     "name": "stdout",
     "output_type": "stream",
     "text": [
      "The shape of the feature matrix is:  (5314, 165) \n",
      "Each row representing a player, each column representing a feature.\n",
      "The shape of the target matrix is :  (5314, 1) \n",
      "Each row representing a player, column values are respective leagues.\n"
     ]
    }
   ],
   "source": [
    "X = np.asmatrix(pd.read_csv(\"../results/fifa_features.csv\"))\n",
    "print(\"The shape of the feature matrix is: \", X.shape, \"\\nEach row representing a player, each column representing a feature.\")\n",
    "\n",
    "y = np.asarray(pd.read_csv(\"../results/fifa_target.csv\"))\n",
    "print(\"The shape of the target matrix is : \", y.shape, \"\\nEach row representing a player, column values are respective leagues.\")\n",
    "y = y.flatten()\n",
    "\n",
    "target_values = pd.read_csv(\"../results/target_reminder.csv\")"
   ]
  },
  {
   "cell_type": "code",
   "execution_count": 32,
   "metadata": {},
   "outputs": [
    {
     "data": {
      "text/plain": [
       "<matplotlib.text.Text at 0x10b85f898>"
      ]
     },
     "execution_count": 32,
     "metadata": {},
     "output_type": "execute_result"
    },
    {
     "data": {
      "image/png": "[encoded data removed]",
      "text/plain": [
       "<matplotlib.figure.Figure at 0x10b85f160>"
      ]
     },
     "metadata": {},
     "output_type": "display_data"
    }
   ],
   "source": [
    "#Creating train-test split and testing random forests with different depth\n",
    "Xtrain, Xval, ytrain, yval = train_test_split(X, y, test_size=0.20, random_state=1)\n",
    "\n",
    "train_err_list = []\n",
    "val_err_list = []\n",
    "index_list = []\n",
    "\n",
    "for i in range(1, 30):\n",
    "    clf = RandomForestClassifier(max_depth=i, random_state=0)\n",
    "    clf.fit(Xtrain, ytrain)\n",
    "    train_err = 1-clf.score(Xtrain,ytrain)\n",
    "    val_err = 1-clf.score(Xval, yval)\n",
    "    train_err_list.append(train_err)\n",
    "    val_err_list.append(val_err)\n",
    "    index_list.append(i)\n",
    "    \n",
    "#plotting the two errors in relation to tree_depth. \n",
    "# test error: red \n",
    "# train error: blue\n",
    "\n",
    "plt.plot(index_list, val_err_list,\"r\", index_list, train_err_list)\n",
    "plt.title('Error vs. Depth')\n",
    "    \n"
   ]
  },
  {
   "cell_type": "code",
   "execution_count": 41,
   "metadata": {},
   "outputs": [
    {
     "name": "stdout",
     "output_type": "stream",
     "text": [
      "The best combination of parameters was {'max_depth': 10, 'max_features': 70, 'n_estimators': 13} leading to a cross-val score of:  0.2989884733\n"
     ]
    }
   ],
   "source": [
    "#using gridsearch to find combination of hyperparameters with best cross-validation score \n",
    "#Note: do not run this cell! It takes forever\n",
    "forest_params = {'n_estimators': np.arange(5,15,2), 'max_depth': np.arange(1,15,1), 'max_features': np.arange(30,90,10)}\n",
    "\n",
    "forest_model = RandomForestClassifier()\n",
    "forest_search = GridSearchCV(forest_model, forest_params)\n",
    "\n",
    "forest_search.fit(Xtrain, ytrain)\n",
    "\n",
    "print(\"The best combination of parameters was\", forest_search.best_params_, \"leading to a cross-val score of: \", forest_search.best_score_)"
   ]
  }
 ],
 "metadata": {
  "kernelspec": {
   "display_name": "Python 3",
   "language": "python",
   "name": "python3"
  },
  "language_info": {
   "codemirror_mode": {
    "name": "ipython",
    "version": 3
   },
   "file_extension": ".py",
   "mimetype": "text/x-python",
   "name": "python",
   "nbconvert_exporter": "python",
   "pygments_lexer": "ipython3",
   "version": "3.6.1"
  }
 },
 "nbformat": 4,
 "nbformat_minor": 2
}
