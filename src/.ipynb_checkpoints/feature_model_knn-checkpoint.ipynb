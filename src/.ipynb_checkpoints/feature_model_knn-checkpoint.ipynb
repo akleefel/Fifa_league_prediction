{
 "cells": [
  {
   "cell_type": "code",
   "execution_count": 40,
   "metadata": {
    "collapsed": true
   },
   "outputs": [],
   "source": [
    "import os\n",
    "import numpy as np\n",
    "import pandas as pd\n",
    "import matplotlib.pyplot as plt\n",
    "\n",
    "\n",
    "#classifiers \n",
    "from sklearn.neighbors import KNeighborsClassifier\n",
    "from sklearn.ensemble import RandomForestClassifier\n",
    "from sklearn.tree import DecisionTreeClassifier\n",
    "from sklearn.svm import SVC\n",
    "\n",
    "\n",
    "#other\n",
    "from sklearn.feature_selection import SelectFromModel\n",
    "from sklearn.model_selection import train_test_split, GridSearchCV\n",
    "from sklearn.feature_selection import RFE\n",
    "from sklearn.feature_selection import VarianceThreshold\n",
    "from sklearn.feature_selection import SelectKBest\n",
    "from sklearn.feature_selection import chi2\n",
    "\n",
    "\n",
    "%matplotlib inline"
   ]
  },
  {
   "cell_type": "code",
   "execution_count": 17,
   "metadata": {},
   "outputs": [
    {
     "name": "stdout",
     "output_type": "stream",
     "text": [
      "The shape of the feature matrix is:  (5314, 166) \n",
      "Each row representing a player, each column representing a feature.\n",
      "The shape of the target matrix is :  (5314, 1) \n",
      "Each row representing a player, column values are respective leagues.\n"
     ]
    }
   ],
   "source": [
    "X = np.asmatrix(pd.read_csv(\"../results/fifa_features.csv\"))\n",
    "print(\"The shape of the feature matrix is: \", X.shape, \"\\nEach row representing a player, each column representing a feature.\")\n",
    "\n",
    "y = np.asarray(pd.read_csv(\"../results/fifa_target.csv\"))\n",
    "print(\"The shape of the target matrix is : \", y.shape, \"\\nEach row representing a player, column values are respective leagues.\")\n",
    "y = y.flatten()\n",
    "\n",
    "target_values = pd.read_csv(\"../results/target_reminder.csv\")"
   ]
  },
  {
   "cell_type": "code",
   "execution_count": 18,
   "metadata": {},
   "outputs": [
    {
     "data": {
      "text/plain": [
       "0.15047021943573669"
      ]
     },
     "execution_count": 18,
     "metadata": {},
     "output_type": "execute_result"
    }
   ],
   "source": [
    "#Creating train-test split and testing random forests with different depth\n",
    "Xtrain, Xval, ytrain, yval = train_test_split(X, y, test_size=0.20, random_state=1)"
   ]
  },
  {
   "cell_type": "code",
   "execution_count": 19,
   "metadata": {},
   "outputs": [
    {
     "name": "stdout",
     "output_type": "stream",
     "text": [
      "The best combination of parameters was {'n_neighbors': 13} leading to a cross-val error of:  0.183382629739\n"
     ]
    }
   ],
   "source": [
    "#finding ideal hyperparameters with gridSearchCV\n",
    "\n",
    "neighbor_params = {'n_neighbors': np.arange(1,15,1)}\n",
    "\n",
    "neighbor_model = KNeighborsClassifier()\n",
    "neighbor_search = GridSearchCV(neighbor_model, neighbor_params)\n",
    "\n",
    "neighbor_search.fit(Xtrain, ytrain)\n",
    "\n",
    "print(\"The best combination of parameters was\", neighbor_search.best_params_, \"leading to a cross-val score of: \", neighbor_search.best_score_)\n",
    "\n"
   ]
  },
  {
   "cell_type": "code",
   "execution_count": 59,
   "metadata": {
    "collapsed": true
   },
   "outputs": [],
   "source": [
    "#trying to find optimal number of features using gridsearch cv and association approach\n",
    "\n",
    "cv_list = []\n",
    "index_list = []\n",
    "\n",
    "for i in range(40, 80, 5):\n",
    "    X_new = SelectKBest(chi2, k=i).fit_transform(X, y)\n",
    "    Xtrain_t, Xval_t, ytrain_t, yval_t = train_test_split(X_new, y, test_size=0.20, random_state=1)\n",
    "\n",
    "    neighbor_trimmed_params = {'n_neighbors': np.arange(1,15,1)}\n",
    "\n",
    "    neighbor_trimmed_model = KNeighborsClassifier()\n",
    "    neighbor_trimmed_search = GridSearchCV(neighbor_trimmed_model, neighbor_trimmed_params)\n",
    "    neighbor_trimmed_search.fit(Xtrain_t, ytrain_t)\n",
    "    cv_list.append(neighbor_trimmed_search.best_score_)\n",
    "    index_list.append(i)\n",
    "    "
   ]
  },
  {
   "cell_type": "code",
   "execution_count": 62,
   "metadata": {},
   "outputs": [
    {
     "data": {
      "text/plain": [
       "<matplotlib.text.Text at 0x2d000d4c18>"
      ]
     },
     "execution_count": 62,
     "metadata": {},
     "output_type": "execute_result"
    },
    {
     "data": {
      "image/png": "[encoded data removed]",
      "text/plain": [
       "<matplotlib.figure.Figure at 0x2d000490f0>"
      ]
     },
     "metadata": {},
     "output_type": "display_data"
    }
   ],
   "source": [
    "#plotting the two errors in relation to tree_depth. \n",
    "# cv error: red \n",
    "\n",
    "\n",
    "plt.plot(index_list, cv_list,\"r\")\n",
    "plt.title('Score vs. Number of Features')\n",
    "    "
   ]
  },
  {
   "cell_type": "code",
   "execution_count": 64,
   "metadata": {},
   "outputs": [
    {
     "name": "stdout",
     "output_type": "stream",
     "text": [
      "The best combination of parameters was {'n_neighbors': 13} leading to a cross-val error of:  0.185132909904\n",
      "This is a very slight improvement over the initial model using all parameters\n"
     ]
    }
   ],
   "source": [
    "#Reducing dimensionality by removing features independent from target\n",
    "\n",
    "#chi2\n",
    "\n",
    "X_new = SelectKBest(chi2, k=55).fit_transform(X, y)\n",
    "\n",
    "Xtrain_t, Xval_t, ytrain_t, yval_t = train_test_split(X_new, y, test_size=0.20, random_state=1)\n",
    "\n",
    "neighbor_trimmed_params = {'n_neighbors': np.arange(1,15,1)}\n",
    "\n",
    "neighbor_trimmed_model = KNeighborsClassifier()\n",
    "neighbor_trimmed_search = GridSearchCV(neighbor_trimmed_model, neighbor_trimmed_params)\n",
    "\n",
    "neighbor_trimmed_search.fit(Xtrain_t, ytrain_t)\n",
    "\n",
    "print(\"The best combination of parameters was\", neighbor_trimmed_search.best_params_, \"leading to a cross-val error of: \", neighbor_trimmed_search.best_score_)\n",
    "\n",
    "print(\"This is a very slight improvement over the initial model using all parameters\")"
   ]
  }
 ],
 "metadata": {
  "kernelspec": {
   "display_name": "Python 3",
   "language": "python",
   "name": "python3"
  },
  "language_info": {
   "codemirror_mode": {
    "name": "ipython",
    "version": 3
   },
   "file_extension": ".py",
   "mimetype": "text/x-python",
   "name": "python",
   "nbconvert_exporter": "python",
   "pygments_lexer": "ipython3",
   "version": "3.6.1"
  }
 },
 "nbformat": 4,
 "nbformat_minor": 2
}
