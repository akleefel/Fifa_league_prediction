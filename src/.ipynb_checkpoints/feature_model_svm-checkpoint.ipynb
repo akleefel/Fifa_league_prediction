{
 "cells": [
  {
   "cell_type": "code",
   "execution_count": 10,
   "metadata": {
    "collapsed": true
   },
   "outputs": [],
   "source": [
    "import os\n",
    "import numpy as np\n",
    "import pandas as pd\n",
    "import matplotlib.pyplot as plt\n",
    "\n",
    "\n",
    "#classifiers \n",
    "from sklearn.neighbors import KNeighborsClassifier\n",
    "from sklearn.ensemble import RandomForestClassifier\n",
    "from sklearn.tree import DecisionTreeClassifier\n",
    "from sklearn.svm import SVC\n",
    "\n",
    "\n",
    "#other\n",
    "from sklearn.feature_selection import SelectFromModel\n",
    "from sklearn.model_selection import train_test_split, GridSearchCV\n",
    "from sklearn.feature_selection import RFE\n",
    "from sklearn.feature_selection import VarianceThreshold\n",
    "from sklearn.feature_selection import SelectKBest\n",
    "from sklearn.feature_selection import chi2\n",
    "from sklearn.model_selection import RandomizedSearchCV\n",
    "\n",
    "%matplotlib inline"
   ]
  },
  {
   "cell_type": "code",
   "execution_count": 4,
   "metadata": {},
   "outputs": [
    {
     "name": "stdout",
     "output_type": "stream",
     "text": [
      "The shape of the feature matrix is:  (5314, 165) \n",
      "Each row representing a player, each column representing a feature.\n",
      "The shape of the target matrix is :  (5314, 1) \n",
      "Each row representing a player, column values are respective leagues.\n"
     ]
    }
   ],
   "source": [
    "X = np.asmatrix(pd.read_csv(\"../results/fifa_features.csv\"))\n",
    "print(\"The shape of the feature matrix is: \", X.shape, \"\\nEach row representing a player, each column representing a feature.\")\n",
    "\n",
    "y = np.asarray(pd.read_csv(\"../results/fifa_target.csv\"))\n",
    "print(\"The shape of the target matrix is : \", y.shape, \"\\nEach row representing a player, column values are respective leagues.\")\n",
    "y = y.flatten()\n",
    "\n",
    "target_values = pd.read_csv(\"../results/target_reminder.csv\")"
   ]
  },
  {
   "cell_type": "code",
   "execution_count": 12,
   "metadata": {
    "scrolled": true
   },
   "outputs": [
    {
     "name": "stdout",
     "output_type": "stream",
     "text": [
      "The best combination of parameters was {'gamma': 0.00048828125, 'C': 16} leading to a cross-val error of:  0.341096212656\n"
     ]
    }
   ],
   "source": [
    "#Creating train-test hyperparameter tuning with randomized search\n",
    "Xtrain, Xval, ytrain, yval = train_test_split(X, y, test_size=0.20, random_state=1)\n",
    "\n",
    "svm_params = {'C': [2**-5,2**-3,2**-1,2**1,2**2,2**4,2**6,2**8], \"gamma\": [2**-15,2**-13,2**-11,2**-9,2**-5,2**-3,2**-2,2**1,2**2,2**3]}\n",
    "\n",
    "svm_model = SVC()\n",
    "\n",
    "n_iter_search = 5\n",
    "svm_search =RandomizedSearchCV(svm_model, svm_params,n_iter=n_iter_search)\n",
    "\n",
    "svm_search.fit(Xtrain, ytrain)\n",
    "\n",
    "\n",
    "print(\"The best combination of parameters was\", svm_search.best_params_, \"leading to a cross-val error of: \", svm_search.best_score_)\n"
   ]
  },
  {
   "cell_type": "code",
   "execution_count": 14,
   "metadata": {
    "collapsed": true
   },
   "outputs": [],
   "source": [
    "#trying to find optimal number of features using radomized search cv and association approach\n",
    "\n",
    "cv_list = []\n",
    "index_list = []\n",
    "\n",
    "for i in range(40, 80, 5):\n",
    "    X_new = SelectKBest(chi2, k=i).fit_transform(X, y)\n",
    "    Xtrain_t, Xval_t, ytrain_t, yval_t = train_test_split(X_new, y, test_size=0.20, random_state=1)\n",
    "\n",
    "    svm_params = {'C': [2**-5,2**-3,2**-1,2**1,2**2,2**4,2**6,2**8], \"gamma\": [2**-15,2**-13,2**-11,2**-9,2**-5,2**-3,2**-2,2**1,2**2,2**3]}\n",
    "\n",
    "    svm_model_t = SVC()\n",
    "\n",
    "    n_iter_search = 5\n",
    "    svm_search_t =RandomizedSearchCV(svm_model_t, svm_params,n_iter=n_iter_search)\n",
    "\n",
    "    svm_search_t.fit(Xtrain_t, ytrain_t)\n",
    "\n",
    "    cv_list.append(svm_search_t.best_score_)\n",
    "    index_list.append(i)\n",
    "    "
   ]
  },
  {
   "cell_type": "code",
   "execution_count": 15,
   "metadata": {},
   "outputs": [
    {
     "data": {
      "text/plain": [
       "<matplotlib.text.Text at 0xb99b0c4400>"
      ]
     },
     "execution_count": 15,
     "metadata": {},
     "output_type": "execute_result"
    },
    {
     "data": {
      "image/png": "[encoded data removed]",
      "text/plain": [
       "<matplotlib.figure.Figure at 0xb995a94c88>"
      ]
     },
     "metadata": {},
     "output_type": "display_data"
    }
   ],
   "source": [
    "#plotting the two errors in relation to tree_depth. \n",
    "# cv error: red \n",
    "\n",
    "plt.plot(index_list, cv_list,\"r\")\n",
    "plt.title('Error vs. Number of Features')\n",
    "    "
   ]
  },
  {
   "cell_type": "code",
   "execution_count": 19,
   "metadata": {},
   "outputs": [
    {
     "data": {
      "text/plain": [
       "0.34336782690498591"
      ]
     },
     "execution_count": 19,
     "metadata": {},
     "output_type": "execute_result"
    }
   ],
   "source": [
    "X_new = SelectKBest(chi2, k=65).fit_transform(X, y)\n",
    "Xtrain_t, Xval_t, ytrain_t, yval_t = train_test_split(X_new, y, test_size=0.20, random_state=1)\n",
    "\n",
    "\n",
    "svm_model_optimal = SVC(gamma = 0.00048828125, C = 16)\n",
    "svm_model_optimal.fit(Xtrain_t, ytrain_t)\n",
    "svm_model_optimal.score(Xval_t, yval_t) \n"
   ]
  },
  {
   "cell_type": "code",
   "execution_count": null,
   "metadata": {
    "collapsed": true
   },
   "outputs": [],
   "source": []
  }
 ],
 "metadata": {
  "kernelspec": {
   "display_name": "Python 3",
   "language": "python",
   "name": "python3"
  },
  "language_info": {
   "codemirror_mode": {
    "name": "ipython",
    "version": 3
   },
   "file_extension": ".py",
   "mimetype": "text/x-python",
   "name": "python",
   "nbconvert_exporter": "python",
   "pygments_lexer": "ipython3",
   "version": "3.6.1"
  }
 },
 "nbformat": 4,
 "nbformat_minor": 2
}
