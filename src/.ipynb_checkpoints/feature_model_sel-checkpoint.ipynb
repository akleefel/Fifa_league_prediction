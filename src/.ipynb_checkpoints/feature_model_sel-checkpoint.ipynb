{
 "cells": [
  {
   "cell_type": "code",
   "execution_count": 28,
   "metadata": {
    "collapsed": true
   },
   "outputs": [],
   "source": [
    "import os\n",
    "import numpy as np\n",
    "import pandas as pd\n",
    "import matplotlib.pyplot as plt\n",
    "\n",
    "\n",
    "#classifiers \n",
    "from sklearn.neighbors import KNeighborsClassifier\n",
    "from sklearn.ensemble import RandomForestClassifier\n",
    "from sklearn.tree import DecisionTreeClassifier\n",
    "from sklearn.svm import SVC\n",
    "\n",
    "#other\n",
    "from sklearn.feature_selection import SelectFromModel\n",
    "from sklearn.model_selection import train_test_split, GridSearchCV\n",
    "\n",
    "%matplotlib inline\n"
   ]
  },
  {
   "cell_type": "code",
   "execution_count": 41,
   "metadata": {},
   "outputs": [
    {
     "name": "stdout",
     "output_type": "stream",
     "text": [
      "The shape of the feature matrix is:  (5314, 166) \n",
      "Each row representing a player, each column representing a feature.\n",
      "The shape of the target matrix is :  (5314, 1) \n",
      "Each row representing a player, column values are respective leagues.\n"
     ]
    }
   ],
   "source": [
    "X = np.asmatrix(pd.read_csv(\"../results/fifa_features.csv\"))\n",
    "print(\"The shape of the feature matrix is: \", X.shape, \"\\nEach row representing a player, each column representing a feature.\")\n",
    "\n",
    "y = np.asarray(pd.read_csv(\"../results/fifa_target.csv\"))\n",
    "print(\"The shape of the target matrix is : \", y.shape, \"\\nEach row representing a player, column values are respective leagues.\")\n",
    "y = y.flatten()"
   ]
  },
  {
   "cell_type": "code",
   "execution_count": 54,
   "metadata": {},
   "outputs": [
    {
     "data": {
      "text/plain": [
       "<matplotlib.text.Text at 0x939dd83be0>"
      ]
     },
     "execution_count": 54,
     "metadata": {},
     "output_type": "execute_result"
    },
    {
     "data": {
      "image/png": "[encoded data removed]",
      "text/plain": [
       "<matplotlib.figure.Figure at 0x939d1293c8>"
      ]
     },
     "metadata": {},
     "output_type": "display_data"
    }
   ],
   "source": [
    "#Creating train-test split and testing random forests with different depth\n",
    "Xtrain, Xval, ytrain, yval = train_test_split(X, y, test_size=0.30, random_state=1)\n",
    "\n",
    "\n",
    "\n",
    "train_err_list = []\n",
    "val_err_list = []\n",
    "index_list = []\n",
    "\n",
    "for i in range(1, 30):\n",
    "    clf = RandomForestClassifier(max_depth=i, random_state=0)\n",
    "    clf.fit(Xtrain, ytrain)\n",
    "    train_err = 1-clf.score(Xtrain,ytrain)\n",
    "    val_err = 1-clf.score(Xval, yval)\n",
    "    train_err_list.append(train_err)\n",
    "    val_err_list.append(val_err)\n",
    "    index_list.append(i)\n",
    "    \n",
    "#plotting the two errors in relation to tree_depth. \n",
    "# test error: red \n",
    "# train error: blue\n",
    "\n",
    "plt.plot(index_list, val_err_list,\"r\", index_list, train_err_list)\n",
    "plt.title('Error vs. Depth')\n",
    "    \n"
   ]
  },
  {
   "cell_type": "code",
   "execution_count": 51,
   "metadata": {},
   "outputs": [
    {
     "data": {
      "text/plain": [
       "(3719,)"
      ]
     },
     "execution_count": 51,
     "metadata": {},
     "output_type": "execute_result"
    }
   ],
   "source": [
    "Xval.shape"
   ]
  },
  {
   "cell_type": "code",
   "execution_count": null,
   "metadata": {
    "collapsed": true
   },
   "outputs": [],
   "source": []
  }
 ],
 "metadata": {
  "kernelspec": {
   "display_name": "Python 3",
   "language": "python",
   "name": "python3"
  },
  "language_info": {
   "codemirror_mode": {
    "name": "ipython",
    "version": 3
   },
   "file_extension": ".py",
   "mimetype": "text/x-python",
   "name": "python",
   "nbconvert_exporter": "python",
   "pygments_lexer": "ipython3",
   "version": "3.6.1"
  }
 },
 "nbformat": 4,
 "nbformat_minor": 2
}
