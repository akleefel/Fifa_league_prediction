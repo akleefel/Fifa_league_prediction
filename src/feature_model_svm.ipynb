{
 "cells": [
  {
   "cell_type": "code",
   "execution_count": 1,
   "metadata": {
    "collapsed": true
   },
   "outputs": [],
   "source": [
    "import os\n",
    "import numpy as np\n",
    "import pandas as pd\n",
    "import matplotlib.pyplot as plt\n",
    "\n",
    "\n",
    "#classifiers \n",
    "from sklearn.neighbors import KNeighborsClassifier\n",
    "from sklearn.ensemble import RandomForestClassifier\n",
    "from sklearn.tree import DecisionTreeClassifier\n",
    "from sklearn.svm import SVC\n",
    "\n",
    "\n",
    "#other\n",
    "from sklearn.feature_selection import SelectFromModel\n",
    "from sklearn.model_selection import train_test_split, GridSearchCV\n",
    "from sklearn.feature_selection import RFE\n",
    "from sklearn.feature_selection import VarianceThreshold\n",
    "from sklearn.feature_selection import SelectKBest\n",
    "from sklearn.feature_selection import chi2\n",
    "\n",
    "\n",
    "%matplotlib inline"
   ]
  },
  {
   "cell_type": "code",
   "execution_count": 2,
   "metadata": {},
   "outputs": [
    {
     "name": "stdout",
     "output_type": "stream",
     "text": [
      "The shape of the feature matrix is:  (5314, 166) \n",
      "Each row representing a player, each column representing a feature.\n",
      "The shape of the target matrix is :  (5314, 1) \n",
      "Each row representing a player, column values are respective leagues.\n"
     ]
    }
   ],
   "source": [
    "X = np.asmatrix(pd.read_csv(\"../results/fifa_features.csv\"))\n",
    "print(\"The shape of the feature matrix is: \", X.shape, \"\\nEach row representing a player, each column representing a feature.\")\n",
    "\n",
    "y = np.asarray(pd.read_csv(\"../results/fifa_target.csv\"))\n",
    "print(\"The shape of the target matrix is : \", y.shape, \"\\nEach row representing a player, column values are respective leagues.\")\n",
    "y = y.flatten()\n",
    "\n",
    "target_values = pd.read_csv(\"../results/target_reminder.csv\")"
   ]
  },
  {
   "cell_type": "code",
   "execution_count": null,
   "metadata": {},
   "outputs": [],
   "source": [
    "#Creating train-test split and testing random forests with different depth\n",
    "Xtrain, Xval, ytrain, yval = train_test_split(X, y, test_size=0.20, random_state=1)\n",
    "\n",
    "svm_params = {'C': [2**-5,2**-3,2**-1,2**1,2**2,2**4,2**6,2**8], \"gamma\": [2**-15,2**-13,2**-11,2**-9,2**-5,2**-3,2**-2,2**1,2**2,2**3]}\n",
    "\n",
    "svm_model = SVC()\n",
    "svm_search = GridSearchCV(svm_model, svm_params)\n",
    "\n",
    "svm_search.fit(Xtrain, ytrain)\n",
    "\n",
    "print(\"The best combination of parameters was\", svm_search.best_params_, \"leading to a cross-val error of: \", svm_search.best_score_)\n",
    "\n"
   ]
  },
  {
   "cell_type": "code",
   "execution_count": 6,
   "metadata": {},
   "outputs": [
    {
     "data": {
      "text/plain": [
       "3.0517578125e-05"
      ]
     },
     "execution_count": 6,
     "metadata": {},
     "output_type": "execute_result"
    }
   ],
   "source": [
    "cv_list = []\n",
    "index_list = []\n",
    "\n",
    "for i in range(40, 80, 5):\n",
    "    X_new = SelectKBest(chi2, k=i).fit_transform(X, y)\n",
    "    Xtrain_t, Xval_t, ytrain_t, yval_t = train_test_split(X_new, y, test_size=0.20, random_state=1)\n",
    "    \n",
    "    svm_params = {'C': [2**-5,2**-3,2**-1,2**1,2**2,2**4,2**6,2**8], \"gamma\": [1,2,3,4]}\n",
    "\n",
    "    svm_model_t = SVC()\n",
    "    svm_search_t = GridSearchCV(svm_model, svm_params)\n",
    "\n",
    "    svm_search_t.fit(Xtrain_t, ytrain_t)\n",
    "    \n",
    "    cv_list.append(svm_search_t.best_score_)\n",
    "    index_list.append(i)\n",
    "    "
   ]
  },
  {
   "cell_type": "code",
   "execution_count": null,
   "metadata": {
    "collapsed": true
   },
   "outputs": [],
   "source": [
    "#plotting the two errors in relation to tree_depth. \n",
    "# cv error: red \n",
    "\n",
    "plt.plot(index_list, cv_list,\"r\")\n",
    "plt.title('Error vs. Number of Features')\n",
    "    "
   ]
  },
  {
   "cell_type": "code",
   "execution_count": null,
   "metadata": {
    "collapsed": true
   },
   "outputs": [],
   "source": [
    "X_new = SelectKBest(chi2, k=55).fit_transform(X, y)\n",
    "\n",
    "Xtrain_t, Xval_t, ytrain_t, yval_t = train_test_split(X_new, y, test_size=0.20, random_state=1)\n",
    "\n",
    "svm_params = {'C': [2**-5,2**-3,2**-1,2**1,2**2,2**4,2**6,2**8], \"gamma\": [1,2,3,4]}\n",
    "\n",
    "svm_model = SVC()\n",
    "svm_search = GridSearchCV(svm_model, svm_params)\n",
    "\n",
    "svm_search.fit(Xtrain, ytrain)\n",
    "\n",
    "print(\"The best combination of parameters was\", svm_search.best_params_, \"leading to a cross-val error of: \", svm_search.best_score_)\n",
    "\n",
    "\n"
   ]
  },
  {
   "cell_type": "code",
   "execution_count": null,
   "metadata": {
    "collapsed": true
   },
   "outputs": [],
   "source": []
  }
 ],
 "metadata": {
  "kernelspec": {
   "display_name": "Python 3",
   "language": "python",
   "name": "python3"
  },
  "language_info": {
   "codemirror_mode": {
    "name": "ipython",
    "version": 3
   },
   "file_extension": ".py",
   "mimetype": "text/x-python",
   "name": "python",
   "nbconvert_exporter": "python",
   "pygments_lexer": "ipython3",
   "version": "3.6.1"
  }
 },
 "nbformat": 4,
 "nbformat_minor": 2
}
